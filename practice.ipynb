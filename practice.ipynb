{
 "cells": [
  {
   "cell_type": "code",
   "execution_count": 1,
   "metadata": {},
   "outputs": [
    {
     "name": "stderr",
     "output_type": "stream",
     "text": [
      "Using TensorFlow backend.\n"
     ]
    }
   ],
   "source": [
    "import keras \n",
    "import os,shutil\n",
    "\n",
    "\n",
    "# 保存较小数据集的目录\n",
    "base_dir = 'E:/program/practice2'\n",
    "\n",
    "# 分别对应划分后的训练，验证和测试的目录\n",
    "train_dir = os.path.join(base_dir, 'train')\n",
    "\n",
    "validation_dir = os.path.join(base_dir, 'validation')\n",
    "\n",
    "test_dir = os.path.join(base_dir, 'test')\n",
    "\n",
    "\n",
    "\n",
    "# banana垃圾的训练目录\n",
    "train_1banana_dir = os.path.join(train_dir, '1banana')\n",
    "\n",
    "# 2apple的训练目录\n",
    "train_2apple_dir = os.path.join(train_dir,'2apple')\n",
    "\n",
    "# 3beetroot的训练目录\n",
    "# train_3beetroot_dir = os.path.join(train_dir,'3beetroot')\n",
    "\n",
    "# 4bell_pepper的训练目录\n",
    "# train_4bell_pepper_dir = os.path.join(train_dir,'4bell_pepper')\n",
    "# 空\n",
    "train_kong_dir = os.path.join(train_dir,'0kong')\n",
    "\n",
    "\n",
    "'''\n",
    "# 5cabbage垃圾的训练目录\n",
    "train_5cabbage_dir = os.path.join(train_dir, '5cabbage')\n",
    "\n",
    "# 6capsicum的训练目录\n",
    "# train_6capsicum_dir = os.path.join(train_dir,'6capsicum')\n",
    "\n",
    "# 7carrot的训练目录\n",
    "# train_7carrot_dir = os.path.join(train_dir,'7carrot')\n",
    "\n",
    "# 8cauliflower的训练目录5cabbage\n",
    "# train_8cauliflower_dir = os.path.join(train_dir,'8cauliflower')\n",
    "# 9chilli_pepper\n",
    "# train_9chilli_pepper_dir = os.path.join(train_dir,'9chilli_pepper')\n",
    "\n",
    "# 10corn垃圾的训练目录\n",
    "# train_10corn_dir = os.path.join(train_dir, '10corn')\n",
    "\n",
    "# 11cucumber的训练目录\n",
    "# train_11cucumber_dir = os.path.join(train_dir,'11cucumber')\n",
    "\n",
    "# 12eggplant的训练目录\n",
    "# train_12eggplant_dir = os.path.join(train_dir,'12eggplant')\n",
    "\n",
    "# 13garlic的训练目录5cabbage\n",
    "train_13garlic_dir = os.path.join(train_dir,'13garlic')\n",
    "# 14ginger\n",
    "train_14ginger_dir = os.path.join(train_dir,'14ginger')\n",
    "\n",
    "\n",
    "# 15grapes垃圾的训练目录\n",
    "train_15grapes_dir = os.path.join(train_dir, '15grapes')\n",
    "\n",
    "# 16jalepeno的训练目录\n",
    "# train_16jalepeno_dir = os.path.join(train_dir,'16jalepeno')\n",
    "'''\n",
    "\n",
    "\n",
    "# 17kiwi的训练目录\n",
    "train_17kiwi_dir = os.path.join(train_dir,'17kiwi')\n",
    "\n",
    "'''\n",
    "\n",
    "# 18lemon的训练目录5cabbage\n",
    "train_18lemon_dir = os.path.join(train_dir,'18lemon')\n",
    "# 19lettuce\n",
    "train_19lettuce_dir = os.path.join(train_dir,'19lettuce')\n",
    "\n",
    "# 20mango垃圾的训练目录\n",
    "train_20mango_dir = os.path.join(train_dir, '20mango')\n",
    "\n",
    "# 21onion的训练目录\n",
    "# train_21onion_dir = os.path.join(train_dir,'21onion')\n",
    "'''\n",
    "\n",
    "\n",
    "# 22orange的训练目录\n",
    "train_22orange_dir = os.path.join(train_dir,'22orange')\n",
    "\n",
    "# 23paprika的训练目录5cabbage\n",
    "# train_23paprika_dir = os.path.join(train_dir,'23paprika')\n",
    "\n",
    "\n",
    "# 24pear\n",
    "train_24pear_dir = os.path.join(train_dir,'24pear')\n",
    "\n",
    "'''\n",
    "# 25peas垃圾的训练目录\n",
    "# train_25peas_dir = os.path.join(train_dir, '25peas')\n",
    "\n",
    "# 26pineapple的训练目录\n",
    "# train_26pineapple_dir = os.path.join(train_dir,'26pineapple')\n",
    "\n",
    "# 27pomegranate的训练目录\n",
    "# train_27pomegranate_dir = os.path.join(train_dir,'27pomegranate')\n",
    "\n",
    "# 28potato的训练目录5cabbage\n",
    "train_28potato_dir = os.path.join(train_dir,'28potato')\n",
    "# 29raddish\n",
    "# train_29raddish_dir = os.path.join(train_dir,'29raddish')\n",
    "\n",
    "# 30soy beans垃圾的训练目录\n",
    "# train_30soy_beans_dir = os.path.join(train_dir, '30soy_beans')\n",
    "'''\n",
    "\n",
    "\n",
    "# 31spinach的训练目录\n",
    "# train_31spinach_dir = os.path.join(train_dir,'31spinach')\n",
    "\n",
    "\n",
    "'''\n",
    "# 32sweetcorn的训练目录\n",
    "# train_32sweetcorn_dir = os.path.join(train_dir,'32sweetcorn')\n",
    "\n",
    "# 33sweetpotato的训练目录5cabbage\n",
    "# train_33sweetpotato_dir = os.path.join(train_dir,'33sweetpotato')\n",
    "# 34tomato\n",
    "train_34tomato_dir = os.path.join(train_dir,'34tomato')\n",
    "\n",
    "\n",
    "# 35turnip垃圾的训练目录\n",
    "# train_35turnip_dir = os.path.join(train_dir, '35turnip')\n",
    "\n",
    "# 36watermelon的训练目录\n",
    "train_36watermelon_dir = os.path.join(train_dir,'36watermelon')\n",
    "'''\n",
    "\n",
    "# 37tank的训练目录\n",
    "train_37tank_dir = os.path.join(train_dir,'37tank')\n",
    "\n",
    "# 38Plastic的训练目录5cabbage\n",
    "train_38Plastic_dir = os.path.join(train_dir,'38Plastic')\n",
    "# 39brick\n",
    "train_39brick_dir = os.path.join(train_dir,'39brick')\n",
    "\n",
    "# 40porcelain垃圾的训练目录\n",
    "train_40porcelain_dir = os.path.join(train_dir, '40porcelain')\n",
    "\n",
    "# 41tile的训练目录\n",
    "train_41tile_dir = os.path.join(train_dir,'41tile')\n",
    "\n",
    "# 42cigarette的训练目录\n",
    "train_42cigarette_dir = os.path.join(train_dir,'42cigarette')\n",
    "\n",
    "# 43battery的训练目录5cabbage\n",
    "train_43battery_dir = os.path.join(train_dir,'43battery')\n",
    "\n",
    "\n",
    "\n",
    "\n",
    "# 验证\n",
    "\n",
    "\n",
    "\n",
    "\n",
    "# banana垃圾的训练目录\n",
    "validation_1banana_dir = os.path.join(validation_dir, '1banana')\n",
    "\n",
    "# 2apple的训练目录\n",
    "validation_2apple_dir = os.path.join(validation_dir,'2apple')\n",
    "\n",
    "# 3beetroot的训练目录\n",
    "# validation_3beetroot_dir = os.path.join(validation_dir,'3beetroot')\n",
    "\n",
    "# 4bell_pepper的训练目录\n",
    "# validation_4bell_pepper_dir = os.path.join(validation_dir,'4bell_pepper')\n",
    "# 空\n",
    "validation_kong_dir = os.path.join(validation_dir,'0kong')\n",
    "\n",
    "\n",
    "\n",
    "# 5cabbage垃圾的训练目录\n",
    "# validation_5cabbage_dir = os.path.join(validation_dir, '5cabbage')\n",
    "\n",
    "# 6capsicum的训练目录\n",
    "# validation_6capsicum_dir = os.path.join(validation_dir,'6capsicum')\n",
    "\n",
    "\n",
    "\n",
    "'''\n",
    "# 7carrot的训练目录\n",
    "validation_7carrot_dir = os.path.join(validation_dir,'7carrot')\n",
    "\n",
    "# 8cauliflower的训练目录5cabbage\n",
    "validation_8cauliflower_dir = os.path.join(validation_dir,'8cauliflower')\n",
    "# 9chilli_pepper\n",
    "validation_9chilli_pepper_dir = os.path.join(validation_dir,'9chilli_pepper')\n",
    "\n",
    "# 10corn垃圾的训练目录\n",
    "validation_10corn_dir = os.path.join(validation_dir, '10corn')\n",
    "\n",
    "# 11cucumber的训练目录\n",
    "validation_11cucumber_dir = os.path.join(validation_dir,'11cucumber')\n",
    "\n",
    "# 12eggplant的训练目录\n",
    "# validation_12eggplant_dir = os.path.join(validation_dir,'12eggplant')\n",
    "\n",
    "# 13garlic的训练目录5cabbage\n",
    "validation_13garlic_dir = os.path.join(validation_dir,'13garlic')\n",
    "# 14ginger\n",
    "validation_14ginger_dir = os.path.join(validation_dir,'14ginger')\n",
    "\n",
    "\n",
    "# 15grapes垃圾的训练目录\n",
    "validation_15grapes_dir = os.path.join(validation_dir, '15grapes')\n",
    "\n",
    "# 16jalepeno的训练目录\n",
    "# validation_16jalepeno_dir = os.path.join(validation_dir,'16jalepeno')\n",
    "'''\n",
    "\n",
    "\n",
    "\n",
    "# 17kiwi的训练目录\n",
    "validation_17kiwi_dir = os.path.join(validation_dir,'17kiwi')\n",
    "\n",
    "\n",
    "'''\n",
    "# 18lemon的训练目录5cabbage\n",
    "validation_18lemon_dir = os.path.join(validation_dir,'18lemon')\n",
    "# 19lettuce\n",
    "validation_19lettuce_dir = os.path.join(validation_dir,'19lettuce')\n",
    "\n",
    "# 20mango垃圾的训练目录\n",
    "validation_20mango_dir = os.path.join(validation_dir, '20mango')\n",
    "\n",
    "# 21onion的训练目录\n",
    "# validation_21onion_dir = os.path.join(validation_dir,'21onion')\n",
    "'''\n",
    "\n",
    "# 22orange的训练目录\n",
    "validation_22orange_dir = os.path.join(validation_dir,'22orange')\n",
    "\n",
    "# 23paprika的训练目录5cabbage\n",
    "# validation_23paprika_dir = os.path.join(validation_dir,'23paprika')\n",
    "# 24pear\n",
    "validation_24pear_dir = os.path.join(validation_dir,'24pear')\n",
    "\n",
    "\n",
    "'''\n",
    "# 25peas垃圾的目录\n",
    "# validation_25peas_dir = os.path.join(validation_dir, '25peas')\n",
    "\n",
    "# 26pineapple的训练目录\n",
    "validation_26pineapple_dir = os.path.join(validation_dir,'26pineapple')\n",
    "\n",
    "# 27pomegranate的训练目录\n",
    "# validation_27pomegranate_dir = os.path.join(validation_dir,'27pomegranate')\n",
    "\n",
    "# 28potato的训练目录5cabbage\n",
    "validation_28potato_dir = os.path.join(validation_dir,'28potato')\n",
    "# 29raddish\n",
    "# validation_29raddish_dir = os.path.join(validation_dir,'29raddish')\n",
    "\n",
    "# 30soy beans垃圾的训练目录\n",
    "# validation_30soy_beans_dir = os.path.join(validation_dir, '30soy_beans')\n",
    "'''\n",
    "\n",
    "\n",
    "# 31spinach的训练目录\n",
    "# validation_31spinach_dir = os.path.join(validation_dir,'31spinach')\n",
    "\n",
    "\n",
    "'''\n",
    "# 32sweetcorn的训练目录\n",
    "# validation_32sweetcorn_dir = os.path.join(validation_dir,'32sweetcorn')\n",
    "\n",
    "# 33sweetpotato的训练目录5cabbage\n",
    "# validation_33sweetpotato_dir = os.path.join(validation_dir,'33sweetpotato')\n",
    "# 34tomato\n",
    "validation_34tomato_dir = os.path.join(validation_dir,'34tomato')\n",
    "\n",
    "\n",
    "# 35turnip垃圾的训练目录\n",
    "# validation_35turnip_dir = os.path.join(validation_dir, '35turnip')\n",
    "\n",
    "# 36watermelon的训练目录\n",
    "validation_36watermelon_dir = os.path.join(validation_dir,'36watermelon')\n",
    "\n",
    "'''\n",
    "\n",
    "# 37tank的训练目录\n",
    "validation_37tank_dir = os.path.join(validation_dir,'37tank')\n",
    "\n",
    "# 38Plastic的训练目录5cabbage\n",
    "validation_38Plastic_dir = os.path.join(validation_dir,'38Plastic')\n",
    "# 39brick\n",
    "validation_39brick_dir = os.path.join(validation_dir,'39brick')\n",
    "\n",
    "# 40porcelain垃圾的训练目录\n",
    "validation_40porcelain_dir = os.path.join(validation_dir, '40porcelain')\n",
    "\n",
    "# 41tile的训练目录\n",
    "validation_41tile_dir = os.path.join(validation_dir,'41tile')\n",
    "\n",
    "# 42cigarette的训练目录\n",
    "validation_42cigarette_dir = os.path.join(validation_dir,'42cigarette')\n",
    "\n",
    "# 43battery的训练目录5cabbage\n",
    "validation_43battery_dir = os.path.join(validation_dir,'43battery')\n",
    "\n",
    "\n",
    "\n",
    "\n",
    "# 测试\n",
    "\n",
    "\n",
    "\n",
    "\n",
    "# banana垃圾的训练目录\n",
    "test_1banana_dir = os.path.join(test_dir, '1banana')\n",
    "\n",
    "# 2apple的训练目录\n",
    "test_2apple_dir = os.path.join(test_dir,'2apple')\n",
    "\n",
    "# 3beetroot的训练目录\n",
    "# test_3beetroot_dir = os.path.join(test_dir,'3beetroot')\n",
    "\n",
    "# 4bell_pepper的训练目录\n",
    "# test_4bell_pepper_dir = os.path.join(test_dir,'4bell_pepper')\n",
    "# 空\n",
    "test_kong_dir = os.path.join(test_dir,'0kong')\n",
    "\n",
    "\n",
    "\n",
    "# 5cabbage垃圾的训练目录\n",
    "# test_5cabbage_dir = os.path.join(test_dir, '5cabbage')\n",
    "'''\n",
    "# 6capsicum的训练目录\n",
    "# test_6capsicum_dir = os.path.join(test_dir,'6capsicum')\n",
    "\n",
    "# 7carrot的训练目录\n",
    "test_7carrot_dir = os.path.join(test_dir,'7carrot')\n",
    "\n",
    "# 8cauliflower的训练目录5cabbage\n",
    "test_8cauliflower_dir = os.path.join(test_dir,'8cauliflower')\n",
    "# 9chilli_pepper\n",
    "test_9chilli_pepper_dir = os.path.join(test_dir,'9chilli_pepper')\n",
    "\n",
    "# 10corn垃圾的训练目录\n",
    "test_10corn_dir = os.path.join(test_dir, '10corn')\n",
    "\n",
    "# 11cucumber的训练目录\n",
    "test_11cucumber_dir = os.path.join(test_dir,'11cucumber')\n",
    "\n",
    "# 12eggplant的训练目录\n",
    "# test_12eggplant_dir = os.path.join(test_dir,'12eggplant')\n",
    "\n",
    "# 13garlic的训练目录5cabbage\n",
    "test_13garlic_dir = os.path.join(test_dir,'13garlic')\n",
    "# 14ginger\n",
    "test_14ginger_dir = os.path.join(test_dir,'14ginger')\n",
    "\n",
    "\n",
    "# 15grapes垃圾的训练目录\n",
    "test_15grapes_dir = os.path.join(test_dir, '15grapes')\n",
    "\n",
    "# 16jalepeno的训练目录\n",
    "# test_16jalepeno_dir = os.path.join(test_dir,'16jalepeno')\n",
    "'''\n",
    "\n",
    "\n",
    "# 17kiwi的训练目录\n",
    "test_17kiwi_dir = os.path.join(test_dir,'17kiwi')\n",
    "\n",
    "'''\n",
    "# 18lemon的训练目录5cabbage\n",
    "test_18lemon_dir = os.path.join(test_dir,'18lemon')\n",
    "# 19lettuce\n",
    "test_19lettuce_dir = os.path.join(test_dir,'19lettuce')\n",
    "\n",
    "# 20mango垃圾的训练目录\n",
    "test_20mango_dir = os.path.join(test_dir, '20mango')\n",
    "\n",
    "# 21onion的训练目录\n",
    "# test_21onion_dir = os.path.join(test_dir,'21onion')\n",
    "'''\n",
    "\n",
    "\n",
    "# 22orange的训练目录\n",
    "test_22orange_dir = os.path.join(test_dir,'22orange')\n",
    "\n",
    "# 23paprika的训练目录5cabbage\n",
    "# test_23paprika_dir = os.path.join(test_dir,'23paprika')\n",
    "# 24pear\n",
    "test_24pear_dir = os.path.join(test_dir,'24pear')\n",
    "\n",
    "'''\n",
    "# 25peas垃圾的训练目录\n",
    "# test_25peas_dir = os.path.join(test_dir, '25peas')\n",
    "\n",
    "# 26pineapple的训练目录\n",
    "test_26pineapple_dir = os.path.join(test_dir,'26pineapple')\n",
    "\n",
    "# 27pomegranate的训练目录\n",
    "# test_27pomegranate_dir = os.path.join(test_dir,'27pomegranate')\n",
    "\n",
    "# 28potato的训练目录5cabbage\n",
    "test_28potato_dir = os.path.join(test_dir,'28potato')\n",
    "# 29raddish\n",
    "# test_29raddish_dir = os.path.join(test_dir,'29raddish')\n",
    "\n",
    "# 30soy beans垃圾的训练目录\n",
    "# test_30soy_beans_dir = os.path.join(test_dir, '30soy_beans')\n",
    "'''\n",
    "\n",
    "\n",
    "# 31spinach的训练目录\n",
    "# test_31spinach_dir = os.path.join(test_dir,'31spinach')\n",
    "\n",
    "\n",
    "'''\n",
    "# 32sweetcorn的训练目录\n",
    "# test_32sweetcorn_dir = os.path.join(test_dir,'32sweetcorn')\n",
    "\n",
    "# 33sweetpotato的训练目录5cabbage\n",
    "# test_33sweetpotato_dir = os.path.join(test_dir,'33sweetpotato')\n",
    "# 34tomato\n",
    "test_34tomato_dir = os.path.join(test_dir,'34tomato')\n",
    "\n",
    "\n",
    "# 35turnip垃圾的训练目录\n",
    "# test_35turnip_dir = os.path.join(test_dir, '35turnip')\n",
    "\n",
    "# 36watermelon的训练目录\n",
    "test_36watermelon_dir = os.path.join(test_dir,'36watermelon')\n",
    "'''\n",
    "\n",
    "\n",
    "# 37tank的训练目录\n",
    "test_37tank_dir = os.path.join(test_dir,'37tank')\n",
    "\n",
    "# 38Plastic的训练目录5cabbage\n",
    "test_38Plastic_dir = os.path.join(test_dir,'38Plastic')\n",
    "# 39brick\n",
    "test_39brick_dir = os.path.join(test_dir,'39brick')\n",
    "\n",
    "# 40porcelain垃圾的训练目录\n",
    "test_40porcelain_dir = os.path.join(test_dir, '40porcelain')\n",
    "\n",
    "# 41tile的训练目录\n",
    "test_41tile_dir = os.path.join(test_dir,'41tile')\n",
    "\n",
    "# 42cigarette的训练目录\n",
    "test_42cigarette_dir = os.path.join(test_dir,'42cigarette')\n",
    "\n",
    "# 43battery的训练目录5cabbage\n",
    "test_43battery_dir = os.path.join(test_dir,'43battery')\n",
    "\n",
    "\n",
    "\n",
    "\n"
   ]
  },
  {
   "cell_type": "code",
   "execution_count": 2,
   "metadata": {
    "collapsed": true
   },
   "outputs": [
    {
     "name": "stdout",
     "output_type": "stream",
     "text": [
      "WARNING:tensorflow:From E:\\Anaconda\\envs\\keras-g\\lib\\site-packages\\keras\\backend\\tensorflow_backend.py:66: The name tf.get_default_graph is deprecated. Please use tf.compat.v1.get_default_graph instead.\n",
      "\n",
      "WARNING:tensorflow:From E:\\Anaconda\\envs\\keras-g\\lib\\site-packages\\keras\\backend\\tensorflow_backend.py:541: The name tf.placeholder is deprecated. Please use tf.compat.v1.placeholder instead.\n",
      "\n",
      "WARNING:tensorflow:From E:\\Anaconda\\envs\\keras-g\\lib\\site-packages\\keras\\backend\\tensorflow_backend.py:4432: The name tf.random_uniform is deprecated. Please use tf.random.uniform instead.\n",
      "\n",
      "WARNING:tensorflow:From E:\\Anaconda\\envs\\keras-g\\lib\\site-packages\\keras\\backend\\tensorflow_backend.py:4267: The name tf.nn.max_pool is deprecated. Please use tf.nn.max_pool2d instead.\n",
      "\n",
      "WARNING:tensorflow:From E:\\Anaconda\\envs\\keras-g\\lib\\site-packages\\keras\\backend\\tensorflow_backend.py:148: The name tf.placeholder_with_default is deprecated. Please use tf.compat.v1.placeholder_with_default instead.\n",
      "\n",
      "WARNING:tensorflow:From E:\\Anaconda\\envs\\keras-g\\lib\\site-packages\\keras\\backend\\tensorflow_backend.py:3733: calling dropout (from tensorflow.python.ops.nn_ops) with keep_prob is deprecated and will be removed in a future version.\n",
      "Instructions for updating:\n",
      "Please use `rate` instead of `keep_prob`. Rate should be set to `rate = 1 - keep_prob`.\n"
     ]
    }
   ],
   "source": [
    "# 将小型卷积神经网络实例化\n",
    "from keras import layers \n",
    "from keras import models\n",
    "\n",
    "model = models.Sequential()\n",
    "model.add(layers.Conv2D(32, (3, 3), activation='relu',input_shape=(150,150,3)))\n",
    "model.add(layers.MaxPooling2D((2, 2)))\n",
    "model.add(layers.Conv2D(64,(3, 3), activation='relu'))\n",
    "model.add(layers.MaxPooling2D((2, 2)))\n",
    "model.add(layers.Conv2D(128,(3, 3), activation='relu'))\n",
    "model.add(layers.MaxPooling2D((2, 2)))\n",
    "model.add(layers.Conv2D(128,(3, 3), activation='relu'))\n",
    "model.add(layers.MaxPooling2D((2, 2)))\n",
    "\n",
    "model.add(layers.Flatten())\n",
    "model.add(layers.Dropout(0.5))\n",
    "model.add(layers.Dense(512, activation='relu'))\n",
    "model.add(layers.Dense(30, activation='softmax'))\n"
   ]
  },
  {
   "cell_type": "code",
   "execution_count": 3,
   "metadata": {
    "collapsed": true
   },
   "outputs": [
    {
     "name": "stdout",
     "output_type": "stream",
     "text": [
      "Model: \"sequential_1\"\n",
      "_________________________________________________________________\n",
      "Layer (type)                 Output Shape              Param #   \n",
      "=================================================================\n",
      "conv2d_1 (Conv2D)            (None, 148, 148, 32)      896       \n",
      "_________________________________________________________________\n",
      "max_pooling2d_1 (MaxPooling2 (None, 74, 74, 32)        0         \n",
      "_________________________________________________________________\n",
      "conv2d_2 (Conv2D)            (None, 72, 72, 64)        18496     \n",
      "_________________________________________________________________\n",
      "max_pooling2d_2 (MaxPooling2 (None, 36, 36, 64)        0         \n",
      "_________________________________________________________________\n",
      "conv2d_3 (Conv2D)            (None, 34, 34, 128)       73856     \n",
      "_________________________________________________________________\n",
      "max_pooling2d_3 (MaxPooling2 (None, 17, 17, 128)       0         \n",
      "_________________________________________________________________\n",
      "conv2d_4 (Conv2D)            (None, 15, 15, 128)       147584    \n",
      "_________________________________________________________________\n",
      "max_pooling2d_4 (MaxPooling2 (None, 7, 7, 128)         0         \n",
      "_________________________________________________________________\n",
      "flatten_1 (Flatten)          (None, 6272)              0         \n",
      "_________________________________________________________________\n",
      "dropout_1 (Dropout)          (None, 6272)              0         \n",
      "_________________________________________________________________\n",
      "dense_1 (Dense)              (None, 512)               3211776   \n",
      "_________________________________________________________________\n",
      "dense_2 (Dense)              (None, 30)                15390     \n",
      "=================================================================\n",
      "Total params: 3,467,998\n",
      "Trainable params: 3,467,998\n",
      "Non-trainable params: 0\n",
      "_________________________________________________________________\n"
     ]
    }
   ],
   "source": [
    "model.summary()"
   ]
  },
  {
   "cell_type": "code",
   "execution_count": 4,
   "metadata": {
    "collapsed": true
   },
   "outputs": [
    {
     "name": "stdout",
     "output_type": "stream",
     "text": [
      "WARNING:tensorflow:From E:\\Anaconda\\envs\\keras-g\\lib\\site-packages\\keras\\optimizers.py:793: The name tf.train.Optimizer is deprecated. Please use tf.compat.v1.train.Optimizer instead.\n",
      "\n",
      "WARNING:tensorflow:From E:\\Anaconda\\envs\\keras-g\\lib\\site-packages\\keras\\backend\\tensorflow_backend.py:3576: The name tf.log is deprecated. Please use tf.math.log instead.\n",
      "\n"
     ]
    }
   ],
   "source": [
    "# 配置模型用于训练\n",
    "from keras import optimizers\n",
    "\n",
    "model.compile(loss='categorical_crossentropy',\n",
    "              optimizer=optimizers.RMSprop(1e-4), \n",
    "              metrics=['acc'])"
   ]
  },
  {
   "cell_type": "markdown",
   "metadata": {},
   "source": [
    "# 数据预处理"
   ]
  },
  {
   "cell_type": "markdown",
   "metadata": {},
   "source": [
    "1.读取图像文件\n",
    "2.将JEPG文件解码为RGB像素网格\n",
    "3.将这些像素网格转换为浮点数张量\n",
    "4.将像素值（0-255范围内）缩放到[0,1]区间（正如你所知，神经网络喜欢处理较小的输入值）"
   ]
  },
  {
   "cell_type": "code",
   "execution_count": 21,
   "metadata": {},
   "outputs": [
    {
     "name": "stdout",
     "output_type": "stream",
     "text": [
      "Found 3202 images belonging to 21 classes.\n",
      "Found 327 images belonging to 21 classes.\n"
     ]
    }
   ],
   "source": [
    "# 使用ImageDataGenerator 从目录中读取图像\n",
    "from keras.preprocessing.image import ImageDataGenerator\n",
    "\n",
    "train_datagen = ImageDataGenerator(rescale=1./255)\n",
    "test_datagen = ImageDataGenerator(rescale=1./255)\n",
    "\n",
    "train_generator = train_datagen.flow_from_directory(\n",
    "        train_dir,# 目标目录\n",
    "        target_size=(150,150), # 将图像调整为150*150\n",
    "        batch_size=120,\n",
    "        class_mode='categorical') # 标签改变\n",
    "\n",
    "validation_generator = test_datagen.flow_from_directory(\n",
    "        validation_dir,\n",
    "        target_size=(150,150),\n",
    "        batch_size=80,\n",
    "        class_mode='categorical')\n"
   ]
  },
  {
   "cell_type": "code",
   "execution_count": 22,
   "metadata": {},
   "outputs": [
    {
     "name": "stdout",
     "output_type": "stream",
     "text": [
      "data_batch shape: (120, 150, 150, 3)\n",
      "labels_batch shape: (120, 21)\n"
     ]
    }
   ],
   "source": [
    "for data_batch, labels_batch in train_generator:\n",
    "    print('data_batch shape:', data_batch.shape)\n",
    "    print('labels_batch shape:', labels_batch.shape)\n",
    "    break"
   ]
  },
  {
   "cell_type": "code",
   "execution_count": 23,
   "metadata": {},
   "outputs": [
    {
     "name": "stdout",
     "output_type": "stream",
     "text": [
      "Epoch 1/30\n"
     ]
    },
    {
     "name": "stderr",
     "output_type": "stream",
     "text": [
      "E:\\Anaconda\\envs\\keras-g\\lib\\site-packages\\PIL\\Image.py:963: UserWarning: Palette images with Transparency expressed in bytes should be converted to RGBA images\n",
      "  \"Palette images with Transparency expressed in bytes should be \"\n"
     ]
    },
    {
     "ename": "ResourceExhaustedError",
     "evalue": "2 root error(s) found.\n  (0) Resource exhausted: OOM when allocating tensor with shape[120,256,37,37] and type float on /job:localhost/replica:0/task:0/device:GPU:0 by allocator GPU_0_bfc\n\t [[{{node vgg16_3/block3_conv1/convolution}}]]\nHint: If you want to see a list of allocated tensors when OOM happens, add report_tensor_allocations_upon_oom to RunOptions for current allocation info.\n\n\t [[loss_2/mul/_1385]]\nHint: If you want to see a list of allocated tensors when OOM happens, add report_tensor_allocations_upon_oom to RunOptions for current allocation info.\n\n  (1) Resource exhausted: OOM when allocating tensor with shape[120,256,37,37] and type float on /job:localhost/replica:0/task:0/device:GPU:0 by allocator GPU_0_bfc\n\t [[{{node vgg16_3/block3_conv1/convolution}}]]\nHint: If you want to see a list of allocated tensors when OOM happens, add report_tensor_allocations_upon_oom to RunOptions for current allocation info.\n\n0 successful operations.\n0 derived errors ignored.",
     "output_type": "error",
     "traceback": [
      "\u001b[1;31m---------------------------------------------------------------------------\u001b[0m",
      "\u001b[1;31mResourceExhaustedError\u001b[0m                    Traceback (most recent call last)",
      "\u001b[1;32m<ipython-input-23-a937158d371e>\u001b[0m in \u001b[0;36m<module>\u001b[1;34m()\u001b[0m\n\u001b[0;32m      5\u001b[0m     \u001b[0mepochs\u001b[0m\u001b[1;33m=\u001b[0m\u001b[1;36m30\u001b[0m\u001b[1;33m,\u001b[0m\u001b[1;33m\u001b[0m\u001b[0m\n\u001b[0;32m      6\u001b[0m     \u001b[0mvalidation_data\u001b[0m\u001b[1;33m=\u001b[0m\u001b[0mvalidation_generator\u001b[0m\u001b[1;33m,\u001b[0m\u001b[1;33m\u001b[0m\u001b[0m\n\u001b[1;32m----> 7\u001b[1;33m     validation_steps=20)\n\u001b[0m",
      "\u001b[1;32mE:\\Anaconda\\envs\\keras-g\\lib\\site-packages\\keras\\legacy\\interfaces.py\u001b[0m in \u001b[0;36mwrapper\u001b[1;34m(*args, **kwargs)\u001b[0m\n\u001b[0;32m     89\u001b[0m                 warnings.warn('Update your `' + object_name + '` call to the ' +\n\u001b[0;32m     90\u001b[0m                               'Keras 2 API: ' + signature, stacklevel=2)\n\u001b[1;32m---> 91\u001b[1;33m             \u001b[1;32mreturn\u001b[0m \u001b[0mfunc\u001b[0m\u001b[1;33m(\u001b[0m\u001b[1;33m*\u001b[0m\u001b[0margs\u001b[0m\u001b[1;33m,\u001b[0m \u001b[1;33m**\u001b[0m\u001b[0mkwargs\u001b[0m\u001b[1;33m)\u001b[0m\u001b[1;33m\u001b[0m\u001b[0m\n\u001b[0m\u001b[0;32m     92\u001b[0m         \u001b[0mwrapper\u001b[0m\u001b[1;33m.\u001b[0m\u001b[0m_original_function\u001b[0m \u001b[1;33m=\u001b[0m \u001b[0mfunc\u001b[0m\u001b[1;33m\u001b[0m\u001b[0m\n\u001b[0;32m     93\u001b[0m         \u001b[1;32mreturn\u001b[0m \u001b[0mwrapper\u001b[0m\u001b[1;33m\u001b[0m\u001b[0m\n",
      "\u001b[1;32mE:\\Anaconda\\envs\\keras-g\\lib\\site-packages\\keras\\engine\\training.py\u001b[0m in \u001b[0;36mfit_generator\u001b[1;34m(self, generator, steps_per_epoch, epochs, verbose, callbacks, validation_data, validation_steps, validation_freq, class_weight, max_queue_size, workers, use_multiprocessing, shuffle, initial_epoch)\u001b[0m\n\u001b[0;32m   1656\u001b[0m             \u001b[0muse_multiprocessing\u001b[0m\u001b[1;33m=\u001b[0m\u001b[0muse_multiprocessing\u001b[0m\u001b[1;33m,\u001b[0m\u001b[1;33m\u001b[0m\u001b[0m\n\u001b[0;32m   1657\u001b[0m             \u001b[0mshuffle\u001b[0m\u001b[1;33m=\u001b[0m\u001b[0mshuffle\u001b[0m\u001b[1;33m,\u001b[0m\u001b[1;33m\u001b[0m\u001b[0m\n\u001b[1;32m-> 1658\u001b[1;33m             initial_epoch=initial_epoch)\n\u001b[0m\u001b[0;32m   1659\u001b[0m \u001b[1;33m\u001b[0m\u001b[0m\n\u001b[0;32m   1660\u001b[0m     \u001b[1;33m@\u001b[0m\u001b[0minterfaces\u001b[0m\u001b[1;33m.\u001b[0m\u001b[0mlegacy_generator_methods_support\u001b[0m\u001b[1;33m\u001b[0m\u001b[0m\n",
      "\u001b[1;32mE:\\Anaconda\\envs\\keras-g\\lib\\site-packages\\keras\\engine\\training_generator.py\u001b[0m in \u001b[0;36mfit_generator\u001b[1;34m(model, generator, steps_per_epoch, epochs, verbose, callbacks, validation_data, validation_steps, validation_freq, class_weight, max_queue_size, workers, use_multiprocessing, shuffle, initial_epoch)\u001b[0m\n\u001b[0;32m    213\u001b[0m                 outs = model.train_on_batch(x, y,\n\u001b[0;32m    214\u001b[0m                                             \u001b[0msample_weight\u001b[0m\u001b[1;33m=\u001b[0m\u001b[0msample_weight\u001b[0m\u001b[1;33m,\u001b[0m\u001b[1;33m\u001b[0m\u001b[0m\n\u001b[1;32m--> 215\u001b[1;33m                                             class_weight=class_weight)\n\u001b[0m\u001b[0;32m    216\u001b[0m \u001b[1;33m\u001b[0m\u001b[0m\n\u001b[0;32m    217\u001b[0m                 \u001b[0mouts\u001b[0m \u001b[1;33m=\u001b[0m \u001b[0mto_list\u001b[0m\u001b[1;33m(\u001b[0m\u001b[0mouts\u001b[0m\u001b[1;33m)\u001b[0m\u001b[1;33m\u001b[0m\u001b[0m\n",
      "\u001b[1;32mE:\\Anaconda\\envs\\keras-g\\lib\\site-packages\\keras\\engine\\training.py\u001b[0m in \u001b[0;36mtrain_on_batch\u001b[1;34m(self, x, y, sample_weight, class_weight)\u001b[0m\n\u001b[0;32m   1447\u001b[0m             \u001b[0mins\u001b[0m \u001b[1;33m=\u001b[0m \u001b[0mx\u001b[0m \u001b[1;33m+\u001b[0m \u001b[0my\u001b[0m \u001b[1;33m+\u001b[0m \u001b[0msample_weights\u001b[0m\u001b[1;33m\u001b[0m\u001b[0m\n\u001b[0;32m   1448\u001b[0m         \u001b[0mself\u001b[0m\u001b[1;33m.\u001b[0m\u001b[0m_make_train_function\u001b[0m\u001b[1;33m(\u001b[0m\u001b[1;33m)\u001b[0m\u001b[1;33m\u001b[0m\u001b[0m\n\u001b[1;32m-> 1449\u001b[1;33m         \u001b[0moutputs\u001b[0m \u001b[1;33m=\u001b[0m \u001b[0mself\u001b[0m\u001b[1;33m.\u001b[0m\u001b[0mtrain_function\u001b[0m\u001b[1;33m(\u001b[0m\u001b[0mins\u001b[0m\u001b[1;33m)\u001b[0m\u001b[1;33m\u001b[0m\u001b[0m\n\u001b[0m\u001b[0;32m   1450\u001b[0m         \u001b[1;32mreturn\u001b[0m \u001b[0munpack_singleton\u001b[0m\u001b[1;33m(\u001b[0m\u001b[0moutputs\u001b[0m\u001b[1;33m)\u001b[0m\u001b[1;33m\u001b[0m\u001b[0m\n\u001b[0;32m   1451\u001b[0m \u001b[1;33m\u001b[0m\u001b[0m\n",
      "\u001b[1;32mE:\\Anaconda\\envs\\keras-g\\lib\\site-packages\\keras\\backend\\tensorflow_backend.py\u001b[0m in \u001b[0;36m__call__\u001b[1;34m(self, inputs)\u001b[0m\n\u001b[0;32m   2977\u001b[0m                     \u001b[1;32mreturn\u001b[0m \u001b[0mself\u001b[0m\u001b[1;33m.\u001b[0m\u001b[0m_legacy_call\u001b[0m\u001b[1;33m(\u001b[0m\u001b[0minputs\u001b[0m\u001b[1;33m)\u001b[0m\u001b[1;33m\u001b[0m\u001b[0m\n\u001b[0;32m   2978\u001b[0m \u001b[1;33m\u001b[0m\u001b[0m\n\u001b[1;32m-> 2979\u001b[1;33m             \u001b[1;32mreturn\u001b[0m \u001b[0mself\u001b[0m\u001b[1;33m.\u001b[0m\u001b[0m_call\u001b[0m\u001b[1;33m(\u001b[0m\u001b[0minputs\u001b[0m\u001b[1;33m)\u001b[0m\u001b[1;33m\u001b[0m\u001b[0m\n\u001b[0m\u001b[0;32m   2980\u001b[0m         \u001b[1;32melse\u001b[0m\u001b[1;33m:\u001b[0m\u001b[1;33m\u001b[0m\u001b[0m\n\u001b[0;32m   2981\u001b[0m             \u001b[1;32mif\u001b[0m \u001b[0mpy_any\u001b[0m\u001b[1;33m(\u001b[0m\u001b[0mis_tensor\u001b[0m\u001b[1;33m(\u001b[0m\u001b[0mx\u001b[0m\u001b[1;33m)\u001b[0m \u001b[1;32mfor\u001b[0m \u001b[0mx\u001b[0m \u001b[1;32min\u001b[0m \u001b[0minputs\u001b[0m\u001b[1;33m)\u001b[0m\u001b[1;33m:\u001b[0m\u001b[1;33m\u001b[0m\u001b[0m\n",
      "\u001b[1;32mE:\\Anaconda\\envs\\keras-g\\lib\\site-packages\\keras\\backend\\tensorflow_backend.py\u001b[0m in \u001b[0;36m_call\u001b[1;34m(self, inputs)\u001b[0m\n\u001b[0;32m   2935\u001b[0m             \u001b[0mfetched\u001b[0m \u001b[1;33m=\u001b[0m \u001b[0mself\u001b[0m\u001b[1;33m.\u001b[0m\u001b[0m_callable_fn\u001b[0m\u001b[1;33m(\u001b[0m\u001b[1;33m*\u001b[0m\u001b[0marray_vals\u001b[0m\u001b[1;33m,\u001b[0m \u001b[0mrun_metadata\u001b[0m\u001b[1;33m=\u001b[0m\u001b[0mself\u001b[0m\u001b[1;33m.\u001b[0m\u001b[0mrun_metadata\u001b[0m\u001b[1;33m)\u001b[0m\u001b[1;33m\u001b[0m\u001b[0m\n\u001b[0;32m   2936\u001b[0m         \u001b[1;32melse\u001b[0m\u001b[1;33m:\u001b[0m\u001b[1;33m\u001b[0m\u001b[0m\n\u001b[1;32m-> 2937\u001b[1;33m             \u001b[0mfetched\u001b[0m \u001b[1;33m=\u001b[0m \u001b[0mself\u001b[0m\u001b[1;33m.\u001b[0m\u001b[0m_callable_fn\u001b[0m\u001b[1;33m(\u001b[0m\u001b[1;33m*\u001b[0m\u001b[0marray_vals\u001b[0m\u001b[1;33m)\u001b[0m\u001b[1;33m\u001b[0m\u001b[0m\n\u001b[0m\u001b[0;32m   2938\u001b[0m         \u001b[1;32mreturn\u001b[0m \u001b[0mfetched\u001b[0m\u001b[1;33m[\u001b[0m\u001b[1;33m:\u001b[0m\u001b[0mlen\u001b[0m\u001b[1;33m(\u001b[0m\u001b[0mself\u001b[0m\u001b[1;33m.\u001b[0m\u001b[0moutputs\u001b[0m\u001b[1;33m)\u001b[0m\u001b[1;33m]\u001b[0m\u001b[1;33m\u001b[0m\u001b[0m\n\u001b[0;32m   2939\u001b[0m \u001b[1;33m\u001b[0m\u001b[0m\n",
      "\u001b[1;32mE:\\Anaconda\\envs\\keras-g\\lib\\site-packages\\tensorflow\\python\\client\\session.py\u001b[0m in \u001b[0;36m__call__\u001b[1;34m(self, *args, **kwargs)\u001b[0m\n\u001b[0;32m   1456\u001b[0m         ret = tf_session.TF_SessionRunCallable(self._session._session,\n\u001b[0;32m   1457\u001b[0m                                                \u001b[0mself\u001b[0m\u001b[1;33m.\u001b[0m\u001b[0m_handle\u001b[0m\u001b[1;33m,\u001b[0m \u001b[0margs\u001b[0m\u001b[1;33m,\u001b[0m\u001b[1;33m\u001b[0m\u001b[0m\n\u001b[1;32m-> 1458\u001b[1;33m                                                run_metadata_ptr)\n\u001b[0m\u001b[0;32m   1459\u001b[0m         \u001b[1;32mif\u001b[0m \u001b[0mrun_metadata\u001b[0m\u001b[1;33m:\u001b[0m\u001b[1;33m\u001b[0m\u001b[0m\n\u001b[0;32m   1460\u001b[0m           \u001b[0mproto_data\u001b[0m \u001b[1;33m=\u001b[0m \u001b[0mtf_session\u001b[0m\u001b[1;33m.\u001b[0m\u001b[0mTF_GetBuffer\u001b[0m\u001b[1;33m(\u001b[0m\u001b[0mrun_metadata_ptr\u001b[0m\u001b[1;33m)\u001b[0m\u001b[1;33m\u001b[0m\u001b[0m\n",
      "\u001b[1;31mResourceExhaustedError\u001b[0m: 2 root error(s) found.\n  (0) Resource exhausted: OOM when allocating tensor with shape[120,256,37,37] and type float on /job:localhost/replica:0/task:0/device:GPU:0 by allocator GPU_0_bfc\n\t [[{{node vgg16_3/block3_conv1/convolution}}]]\nHint: If you want to see a list of allocated tensors when OOM happens, add report_tensor_allocations_upon_oom to RunOptions for current allocation info.\n\n\t [[loss_2/mul/_1385]]\nHint: If you want to see a list of allocated tensors when OOM happens, add report_tensor_allocations_upon_oom to RunOptions for current allocation info.\n\n  (1) Resource exhausted: OOM when allocating tensor with shape[120,256,37,37] and type float on /job:localhost/replica:0/task:0/device:GPU:0 by allocator GPU_0_bfc\n\t [[{{node vgg16_3/block3_conv1/convolution}}]]\nHint: If you want to see a list of allocated tensors when OOM happens, add report_tensor_allocations_upon_oom to RunOptions for current allocation info.\n\n0 successful operations.\n0 derived errors ignored."
     ]
    }
   ],
   "source": [
    "# 利用批量生成器拟合模型\n",
    "history = model.fit_generator(\n",
    "    train_generator,\n",
    "    steps_per_epoch=50,\n",
    "    epochs=30,\n",
    "    validation_data=validation_generator,\n",
    "    validation_steps=20)"
   ]
  },
  {
   "cell_type": "code",
   "execution_count": 30,
   "metadata": {
    "collapsed": true
   },
   "outputs": [],
   "source": [
    "# 保存模型\n",
    "model.save('practice2-1-2-16-1.h5')"
   ]
  },
  {
   "cell_type": "code",
   "execution_count": null,
   "metadata": {
    "collapsed": true
   },
   "outputs": [],
   "source": [
    "# 绘制训练过程中的损失曲线和精度曲线\n",
    "import matplotlib.pyplot as plt\n",
    "\n",
    "print(history.history.keys)\n",
    "acc = history.history['acc']\n",
    "val_acc = history.history['val_acc']\n",
    "loss = history.history['loss']\n",
    "val_loss = history.history['val_loss']\n",
    "\n",
    "epochs = range(1, len(acc) + 1)\n",
    "\n",
    "plt.plot(epochs, acc, 'bo', label='Training acc')\n",
    "plt.plot(epochs, val_acc, 'b', label='Validation acc')\n",
    "plt.title('Training and validation accuracy')\n",
    "plt.legend()\n",
    "\n",
    "plt.figure()\n",
    "\n",
    "plt.plot(epochs, loss, 'bo', label='Training loss')\n",
    "plt.plot(epochs, val_loss, 'b', label='Validation loss')\n",
    "plt.title('Training and validation loss')\n",
    "plt.legend()\n",
    "\n",
    "plt.show()"
   ]
  },
  {
   "cell_type": "markdown",
   "metadata": {
    "collapsed": true
   },
   "source": [
    "# 使用数据增强"
   ]
  },
  {
   "cell_type": "code",
   "execution_count": null,
   "metadata": {
    "collapsed": true
   },
   "outputs": [],
   "source": [
    "#  利用InageDataGeneratior 来设置数据增强\n",
    "datagen = ImageDataGenerator(\n",
    "        rotation_range=70,\n",
    "        width_shift_range=0.2,\n",
    "        height_shift_range=0.2,\n",
    "        shear_range=0.2,\n",
    "        zoom_range=0.2,\n",
    "        horizontal_flip=True,\n",
    "        fill_mode='nearest')\n"
   ]
  },
  {
   "cell_type": "code",
   "execution_count": 35,
   "metadata": {
    "collapsed": true
   },
   "outputs": [],
   "source": [
    "model = models.Sequential()\n",
    "model.add(layers.Conv2D(32, (3, 3), activation='relu',input_shape=(150,150,3)))\n",
    "model.add(layers.MaxPooling2D((2, 2)))\n",
    "model.add(layers.Conv2D(64,(3, 3), activation='relu'))\n",
    "model.add(layers.MaxPooling2D((2, 2)))\n",
    "model.add(layers.Conv2D(128,(3, 3), activation='relu'))\n",
    "model.add(layers.MaxPooling2D((2, 2)))\n",
    "model.add(layers.Conv2D(128,(3, 3), activation='relu'))\n",
    "model.add(layers.MaxPooling2D((2, 2)))\n",
    "\n",
    "model.add(layers.Flatten())\n",
    "model.add(layers.Dropout(0.5))\n",
    "model.add(layers.Dense(512, activation='relu'))\n",
    "model.add(layers.Dropout(0.5))\n",
    "model.add(layers.Dense(38, activation='softmax'))\n",
    "\n",
    "\n",
    "model.compile(loss='categorical_crossentropy',\n",
    "              optimizer=optimizers.RMSprop(1e-4), \n",
    "              metrics=['acc'])"
   ]
  },
  {
   "cell_type": "code",
   "execution_count": 36,
   "metadata": {
    "scrolled": true
   },
   "outputs": [
    {
     "name": "stdout",
     "output_type": "stream",
     "text": [
      "Found 4664 images belonging to 38 classes.\n",
      "Found 540 images belonging to 38 classes.\n",
      "Epoch 1/30\n"
     ]
    },
    {
     "ename": "KeyboardInterrupt",
     "evalue": "",
     "output_type": "error",
     "traceback": [
      "\u001b[1;31m---------------------------------------------------------------------------\u001b[0m",
      "\u001b[1;31mKeyboardInterrupt\u001b[0m                         Traceback (most recent call last)",
      "\u001b[1;32m<ipython-input-36-e900d66a8500>\u001b[0m in \u001b[0;36m<module>\u001b[1;34m()\u001b[0m\n\u001b[0;32m     25\u001b[0m     \u001b[0mepochs\u001b[0m\u001b[1;33m=\u001b[0m\u001b[1;36m30\u001b[0m\u001b[1;33m,\u001b[0m\u001b[1;33m\u001b[0m\u001b[0m\n\u001b[0;32m     26\u001b[0m     \u001b[0mvalidation_data\u001b[0m\u001b[1;33m=\u001b[0m\u001b[0mvalidation_generator\u001b[0m\u001b[1;33m,\u001b[0m\u001b[1;33m\u001b[0m\u001b[0m\n\u001b[1;32m---> 27\u001b[1;33m     validation_steps=50)\n\u001b[0m",
      "\u001b[1;32mE:\\Anaconda\\envs\\keras-g\\lib\\site-packages\\keras\\legacy\\interfaces.py\u001b[0m in \u001b[0;36mwrapper\u001b[1;34m(*args, **kwargs)\u001b[0m\n\u001b[0;32m     89\u001b[0m                 warnings.warn('Update your `' + object_name + '` call to the ' +\n\u001b[0;32m     90\u001b[0m                               'Keras 2 API: ' + signature, stacklevel=2)\n\u001b[1;32m---> 91\u001b[1;33m             \u001b[1;32mreturn\u001b[0m \u001b[0mfunc\u001b[0m\u001b[1;33m(\u001b[0m\u001b[1;33m*\u001b[0m\u001b[0margs\u001b[0m\u001b[1;33m,\u001b[0m \u001b[1;33m**\u001b[0m\u001b[0mkwargs\u001b[0m\u001b[1;33m)\u001b[0m\u001b[1;33m\u001b[0m\u001b[0m\n\u001b[0m\u001b[0;32m     92\u001b[0m         \u001b[0mwrapper\u001b[0m\u001b[1;33m.\u001b[0m\u001b[0m_original_function\u001b[0m \u001b[1;33m=\u001b[0m \u001b[0mfunc\u001b[0m\u001b[1;33m\u001b[0m\u001b[0m\n\u001b[0;32m     93\u001b[0m         \u001b[1;32mreturn\u001b[0m \u001b[0mwrapper\u001b[0m\u001b[1;33m\u001b[0m\u001b[0m\n",
      "\u001b[1;32mE:\\Anaconda\\envs\\keras-g\\lib\\site-packages\\keras\\engine\\training.py\u001b[0m in \u001b[0;36mfit_generator\u001b[1;34m(self, generator, steps_per_epoch, epochs, verbose, callbacks, validation_data, validation_steps, validation_freq, class_weight, max_queue_size, workers, use_multiprocessing, shuffle, initial_epoch)\u001b[0m\n\u001b[0;32m   1656\u001b[0m             \u001b[0muse_multiprocessing\u001b[0m\u001b[1;33m=\u001b[0m\u001b[0muse_multiprocessing\u001b[0m\u001b[1;33m,\u001b[0m\u001b[1;33m\u001b[0m\u001b[0m\n\u001b[0;32m   1657\u001b[0m             \u001b[0mshuffle\u001b[0m\u001b[1;33m=\u001b[0m\u001b[0mshuffle\u001b[0m\u001b[1;33m,\u001b[0m\u001b[1;33m\u001b[0m\u001b[0m\n\u001b[1;32m-> 1658\u001b[1;33m             initial_epoch=initial_epoch)\n\u001b[0m\u001b[0;32m   1659\u001b[0m \u001b[1;33m\u001b[0m\u001b[0m\n\u001b[0;32m   1660\u001b[0m     \u001b[1;33m@\u001b[0m\u001b[0minterfaces\u001b[0m\u001b[1;33m.\u001b[0m\u001b[0mlegacy_generator_methods_support\u001b[0m\u001b[1;33m\u001b[0m\u001b[0m\n",
      "\u001b[1;32mE:\\Anaconda\\envs\\keras-g\\lib\\site-packages\\keras\\engine\\training_generator.py\u001b[0m in \u001b[0;36mfit_generator\u001b[1;34m(model, generator, steps_per_epoch, epochs, verbose, callbacks, validation_data, validation_steps, validation_freq, class_weight, max_queue_size, workers, use_multiprocessing, shuffle, initial_epoch)\u001b[0m\n\u001b[0;32m    213\u001b[0m                 outs = model.train_on_batch(x, y,\n\u001b[0;32m    214\u001b[0m                                             \u001b[0msample_weight\u001b[0m\u001b[1;33m=\u001b[0m\u001b[0msample_weight\u001b[0m\u001b[1;33m,\u001b[0m\u001b[1;33m\u001b[0m\u001b[0m\n\u001b[1;32m--> 215\u001b[1;33m                                             class_weight=class_weight)\n\u001b[0m\u001b[0;32m    216\u001b[0m \u001b[1;33m\u001b[0m\u001b[0m\n\u001b[0;32m    217\u001b[0m                 \u001b[0mouts\u001b[0m \u001b[1;33m=\u001b[0m \u001b[0mto_list\u001b[0m\u001b[1;33m(\u001b[0m\u001b[0mouts\u001b[0m\u001b[1;33m)\u001b[0m\u001b[1;33m\u001b[0m\u001b[0m\n",
      "\u001b[1;32mE:\\Anaconda\\envs\\keras-g\\lib\\site-packages\\keras\\engine\\training.py\u001b[0m in \u001b[0;36mtrain_on_batch\u001b[1;34m(self, x, y, sample_weight, class_weight)\u001b[0m\n\u001b[0;32m   1447\u001b[0m             \u001b[0mins\u001b[0m \u001b[1;33m=\u001b[0m \u001b[0mx\u001b[0m \u001b[1;33m+\u001b[0m \u001b[0my\u001b[0m \u001b[1;33m+\u001b[0m \u001b[0msample_weights\u001b[0m\u001b[1;33m\u001b[0m\u001b[0m\n\u001b[0;32m   1448\u001b[0m         \u001b[0mself\u001b[0m\u001b[1;33m.\u001b[0m\u001b[0m_make_train_function\u001b[0m\u001b[1;33m(\u001b[0m\u001b[1;33m)\u001b[0m\u001b[1;33m\u001b[0m\u001b[0m\n\u001b[1;32m-> 1449\u001b[1;33m         \u001b[0moutputs\u001b[0m \u001b[1;33m=\u001b[0m \u001b[0mself\u001b[0m\u001b[1;33m.\u001b[0m\u001b[0mtrain_function\u001b[0m\u001b[1;33m(\u001b[0m\u001b[0mins\u001b[0m\u001b[1;33m)\u001b[0m\u001b[1;33m\u001b[0m\u001b[0m\n\u001b[0m\u001b[0;32m   1450\u001b[0m         \u001b[1;32mreturn\u001b[0m \u001b[0munpack_singleton\u001b[0m\u001b[1;33m(\u001b[0m\u001b[0moutputs\u001b[0m\u001b[1;33m)\u001b[0m\u001b[1;33m\u001b[0m\u001b[0m\n\u001b[0;32m   1451\u001b[0m \u001b[1;33m\u001b[0m\u001b[0m\n",
      "\u001b[1;32mE:\\Anaconda\\envs\\keras-g\\lib\\site-packages\\keras\\backend\\tensorflow_backend.py\u001b[0m in \u001b[0;36m__call__\u001b[1;34m(self, inputs)\u001b[0m\n\u001b[0;32m   2957\u001b[0m \u001b[1;33m\u001b[0m\u001b[0m\n\u001b[0;32m   2958\u001b[0m     \u001b[1;32mdef\u001b[0m \u001b[0m__call__\u001b[0m\u001b[1;33m(\u001b[0m\u001b[0mself\u001b[0m\u001b[1;33m,\u001b[0m \u001b[0minputs\u001b[0m\u001b[1;33m)\u001b[0m\u001b[1;33m:\u001b[0m\u001b[1;33m\u001b[0m\u001b[0m\n\u001b[1;32m-> 2959\u001b[1;33m         \u001b[1;32mif\u001b[0m \u001b[0mhasattr\u001b[0m\u001b[1;33m(\u001b[0m\u001b[0mget_session\u001b[0m\u001b[1;33m(\u001b[0m\u001b[1;33m)\u001b[0m\u001b[1;33m,\u001b[0m \u001b[1;34m'_make_callable_from_options'\u001b[0m\u001b[1;33m)\u001b[0m\u001b[1;33m:\u001b[0m\u001b[1;33m\u001b[0m\u001b[0m\n\u001b[0m\u001b[0;32m   2960\u001b[0m             \u001b[1;32mif\u001b[0m \u001b[0mpy_any\u001b[0m\u001b[1;33m(\u001b[0m\u001b[0mis_sparse\u001b[0m\u001b[1;33m(\u001b[0m\u001b[0mx\u001b[0m\u001b[1;33m)\u001b[0m \u001b[1;32mfor\u001b[0m \u001b[0mx\u001b[0m \u001b[1;32min\u001b[0m \u001b[0mself\u001b[0m\u001b[1;33m.\u001b[0m\u001b[0minputs\u001b[0m\u001b[1;33m)\u001b[0m\u001b[1;33m:\u001b[0m\u001b[1;33m\u001b[0m\u001b[0m\n\u001b[0;32m   2961\u001b[0m                 \u001b[1;32mif\u001b[0m \u001b[0mpy_any\u001b[0m\u001b[1;33m(\u001b[0m\u001b[0mis_tensor\u001b[0m\u001b[1;33m(\u001b[0m\u001b[0mx\u001b[0m\u001b[1;33m)\u001b[0m \u001b[1;32mfor\u001b[0m \u001b[0mx\u001b[0m \u001b[1;32min\u001b[0m \u001b[0minputs\u001b[0m\u001b[1;33m)\u001b[0m\u001b[1;33m:\u001b[0m\u001b[1;33m\u001b[0m\u001b[0m\n",
      "\u001b[1;32mE:\\Anaconda\\envs\\keras-g\\lib\\site-packages\\keras\\backend\\tensorflow_backend.py\u001b[0m in \u001b[0;36mget_session\u001b[1;34m()\u001b[0m\n\u001b[0;32m    221\u001b[0m                     \u001b[0mv\u001b[0m\u001b[1;33m.\u001b[0m\u001b[0m_keras_initialized\u001b[0m \u001b[1;33m=\u001b[0m \u001b[1;32mTrue\u001b[0m\u001b[1;33m\u001b[0m\u001b[0m\n\u001b[0;32m    222\u001b[0m                 \u001b[1;32mif\u001b[0m \u001b[0muninitialized_vars\u001b[0m\u001b[1;33m:\u001b[0m\u001b[1;33m\u001b[0m\u001b[0m\n\u001b[1;32m--> 223\u001b[1;33m                     \u001b[0msession\u001b[0m\u001b[1;33m.\u001b[0m\u001b[0mrun\u001b[0m\u001b[1;33m(\u001b[0m\u001b[0mtf\u001b[0m\u001b[1;33m.\u001b[0m\u001b[0mvariables_initializer\u001b[0m\u001b[1;33m(\u001b[0m\u001b[0muninitialized_vars\u001b[0m\u001b[1;33m)\u001b[0m\u001b[1;33m)\u001b[0m\u001b[1;33m\u001b[0m\u001b[0m\n\u001b[0m\u001b[0;32m    224\u001b[0m     \u001b[1;31m# hack for list_devices() function.\u001b[0m\u001b[1;33m\u001b[0m\u001b[1;33m\u001b[0m\u001b[0m\n\u001b[0;32m    225\u001b[0m     \u001b[1;31m# list_devices() function is not available under tensorflow r1.3.\u001b[0m\u001b[1;33m\u001b[0m\u001b[1;33m\u001b[0m\u001b[0m\n",
      "\u001b[1;32mE:\\Anaconda\\envs\\keras-g\\lib\\site-packages\\tensorflow\\python\\client\\session.py\u001b[0m in \u001b[0;36mrun\u001b[1;34m(self, fetches, feed_dict, options, run_metadata)\u001b[0m\n\u001b[0;32m    948\u001b[0m     \u001b[1;32mtry\u001b[0m\u001b[1;33m:\u001b[0m\u001b[1;33m\u001b[0m\u001b[0m\n\u001b[0;32m    949\u001b[0m       result = self._run(None, fetches, feed_dict, options_ptr,\n\u001b[1;32m--> 950\u001b[1;33m                          run_metadata_ptr)\n\u001b[0m\u001b[0;32m    951\u001b[0m       \u001b[1;32mif\u001b[0m \u001b[0mrun_metadata\u001b[0m\u001b[1;33m:\u001b[0m\u001b[1;33m\u001b[0m\u001b[0m\n\u001b[0;32m    952\u001b[0m         \u001b[0mproto_data\u001b[0m \u001b[1;33m=\u001b[0m \u001b[0mtf_session\u001b[0m\u001b[1;33m.\u001b[0m\u001b[0mTF_GetBuffer\u001b[0m\u001b[1;33m(\u001b[0m\u001b[0mrun_metadata_ptr\u001b[0m\u001b[1;33m)\u001b[0m\u001b[1;33m\u001b[0m\u001b[0m\n",
      "\u001b[1;32mE:\\Anaconda\\envs\\keras-g\\lib\\site-packages\\tensorflow\\python\\client\\session.py\u001b[0m in \u001b[0;36m_run\u001b[1;34m(self, handle, fetches, feed_dict, options, run_metadata)\u001b[0m\n\u001b[0;32m   1171\u001b[0m     \u001b[1;32mif\u001b[0m \u001b[0mfinal_fetches\u001b[0m \u001b[1;32mor\u001b[0m \u001b[0mfinal_targets\u001b[0m \u001b[1;32mor\u001b[0m \u001b[1;33m(\u001b[0m\u001b[0mhandle\u001b[0m \u001b[1;32mand\u001b[0m \u001b[0mfeed_dict_tensor\u001b[0m\u001b[1;33m)\u001b[0m\u001b[1;33m:\u001b[0m\u001b[1;33m\u001b[0m\u001b[0m\n\u001b[0;32m   1172\u001b[0m       results = self._do_run(handle, final_targets, final_fetches,\n\u001b[1;32m-> 1173\u001b[1;33m                              feed_dict_tensor, options, run_metadata)\n\u001b[0m\u001b[0;32m   1174\u001b[0m     \u001b[1;32melse\u001b[0m\u001b[1;33m:\u001b[0m\u001b[1;33m\u001b[0m\u001b[0m\n\u001b[0;32m   1175\u001b[0m       \u001b[0mresults\u001b[0m \u001b[1;33m=\u001b[0m \u001b[1;33m[\u001b[0m\u001b[1;33m]\u001b[0m\u001b[1;33m\u001b[0m\u001b[0m\n",
      "\u001b[1;32mE:\\Anaconda\\envs\\keras-g\\lib\\site-packages\\tensorflow\\python\\client\\session.py\u001b[0m in \u001b[0;36m_do_run\u001b[1;34m(self, handle, target_list, fetch_list, feed_dict, options, run_metadata)\u001b[0m\n\u001b[0;32m   1348\u001b[0m     \u001b[1;32mif\u001b[0m \u001b[0mhandle\u001b[0m \u001b[1;32mis\u001b[0m \u001b[1;32mNone\u001b[0m\u001b[1;33m:\u001b[0m\u001b[1;33m\u001b[0m\u001b[0m\n\u001b[0;32m   1349\u001b[0m       return self._do_call(_run_fn, feeds, fetches, targets, options,\n\u001b[1;32m-> 1350\u001b[1;33m                            run_metadata)\n\u001b[0m\u001b[0;32m   1351\u001b[0m     \u001b[1;32melse\u001b[0m\u001b[1;33m:\u001b[0m\u001b[1;33m\u001b[0m\u001b[0m\n\u001b[0;32m   1352\u001b[0m       \u001b[1;32mreturn\u001b[0m \u001b[0mself\u001b[0m\u001b[1;33m.\u001b[0m\u001b[0m_do_call\u001b[0m\u001b[1;33m(\u001b[0m\u001b[0m_prun_fn\u001b[0m\u001b[1;33m,\u001b[0m \u001b[0mhandle\u001b[0m\u001b[1;33m,\u001b[0m \u001b[0mfeeds\u001b[0m\u001b[1;33m,\u001b[0m \u001b[0mfetches\u001b[0m\u001b[1;33m)\u001b[0m\u001b[1;33m\u001b[0m\u001b[0m\n",
      "\u001b[1;32mE:\\Anaconda\\envs\\keras-g\\lib\\site-packages\\tensorflow\\python\\client\\session.py\u001b[0m in \u001b[0;36m_do_call\u001b[1;34m(self, fn, *args)\u001b[0m\n\u001b[0;32m   1354\u001b[0m   \u001b[1;32mdef\u001b[0m \u001b[0m_do_call\u001b[0m\u001b[1;33m(\u001b[0m\u001b[0mself\u001b[0m\u001b[1;33m,\u001b[0m \u001b[0mfn\u001b[0m\u001b[1;33m,\u001b[0m \u001b[1;33m*\u001b[0m\u001b[0margs\u001b[0m\u001b[1;33m)\u001b[0m\u001b[1;33m:\u001b[0m\u001b[1;33m\u001b[0m\u001b[0m\n\u001b[0;32m   1355\u001b[0m     \u001b[1;32mtry\u001b[0m\u001b[1;33m:\u001b[0m\u001b[1;33m\u001b[0m\u001b[0m\n\u001b[1;32m-> 1356\u001b[1;33m       \u001b[1;32mreturn\u001b[0m \u001b[0mfn\u001b[0m\u001b[1;33m(\u001b[0m\u001b[1;33m*\u001b[0m\u001b[0margs\u001b[0m\u001b[1;33m)\u001b[0m\u001b[1;33m\u001b[0m\u001b[0m\n\u001b[0m\u001b[0;32m   1357\u001b[0m     \u001b[1;32mexcept\u001b[0m \u001b[0merrors\u001b[0m\u001b[1;33m.\u001b[0m\u001b[0mOpError\u001b[0m \u001b[1;32mas\u001b[0m \u001b[0me\u001b[0m\u001b[1;33m:\u001b[0m\u001b[1;33m\u001b[0m\u001b[0m\n\u001b[0;32m   1358\u001b[0m       \u001b[0mmessage\u001b[0m \u001b[1;33m=\u001b[0m \u001b[0mcompat\u001b[0m\u001b[1;33m.\u001b[0m\u001b[0mas_text\u001b[0m\u001b[1;33m(\u001b[0m\u001b[0me\u001b[0m\u001b[1;33m.\u001b[0m\u001b[0mmessage\u001b[0m\u001b[1;33m)\u001b[0m\u001b[1;33m\u001b[0m\u001b[0m\n",
      "\u001b[1;32mE:\\Anaconda\\envs\\keras-g\\lib\\site-packages\\tensorflow\\python\\client\\session.py\u001b[0m in \u001b[0;36m_run_fn\u001b[1;34m(feed_dict, fetch_list, target_list, options, run_metadata)\u001b[0m\n\u001b[0;32m   1337\u001b[0m     \u001b[1;32mdef\u001b[0m \u001b[0m_run_fn\u001b[0m\u001b[1;33m(\u001b[0m\u001b[0mfeed_dict\u001b[0m\u001b[1;33m,\u001b[0m \u001b[0mfetch_list\u001b[0m\u001b[1;33m,\u001b[0m \u001b[0mtarget_list\u001b[0m\u001b[1;33m,\u001b[0m \u001b[0moptions\u001b[0m\u001b[1;33m,\u001b[0m \u001b[0mrun_metadata\u001b[0m\u001b[1;33m)\u001b[0m\u001b[1;33m:\u001b[0m\u001b[1;33m\u001b[0m\u001b[0m\n\u001b[0;32m   1338\u001b[0m       \u001b[1;31m# Ensure any changes to the graph are reflected in the runtime.\u001b[0m\u001b[1;33m\u001b[0m\u001b[1;33m\u001b[0m\u001b[0m\n\u001b[1;32m-> 1339\u001b[1;33m       \u001b[0mself\u001b[0m\u001b[1;33m.\u001b[0m\u001b[0m_extend_graph\u001b[0m\u001b[1;33m(\u001b[0m\u001b[1;33m)\u001b[0m\u001b[1;33m\u001b[0m\u001b[0m\n\u001b[0m\u001b[0;32m   1340\u001b[0m       return self._call_tf_sessionrun(\n\u001b[0;32m   1341\u001b[0m           options, feed_dict, fetch_list, target_list, run_metadata)\n",
      "\u001b[1;32mE:\\Anaconda\\envs\\keras-g\\lib\\site-packages\\tensorflow\\python\\client\\session.py\u001b[0m in \u001b[0;36m_extend_graph\u001b[1;34m(self)\u001b[0m\n\u001b[0;32m   1372\u001b[0m   \u001b[1;32mdef\u001b[0m \u001b[0m_extend_graph\u001b[0m\u001b[1;33m(\u001b[0m\u001b[0mself\u001b[0m\u001b[1;33m)\u001b[0m\u001b[1;33m:\u001b[0m\u001b[1;33m\u001b[0m\u001b[0m\n\u001b[0;32m   1373\u001b[0m     \u001b[1;32mwith\u001b[0m \u001b[0mself\u001b[0m\u001b[1;33m.\u001b[0m\u001b[0m_graph\u001b[0m\u001b[1;33m.\u001b[0m\u001b[0m_session_run_lock\u001b[0m\u001b[1;33m(\u001b[0m\u001b[1;33m)\u001b[0m\u001b[1;33m:\u001b[0m  \u001b[1;31m# pylint: disable=protected-access\u001b[0m\u001b[1;33m\u001b[0m\u001b[0m\n\u001b[1;32m-> 1374\u001b[1;33m       \u001b[0mtf_session\u001b[0m\u001b[1;33m.\u001b[0m\u001b[0mExtendSession\u001b[0m\u001b[1;33m(\u001b[0m\u001b[0mself\u001b[0m\u001b[1;33m.\u001b[0m\u001b[0m_session\u001b[0m\u001b[1;33m)\u001b[0m\u001b[1;33m\u001b[0m\u001b[0m\n\u001b[0m\u001b[0;32m   1375\u001b[0m \u001b[1;33m\u001b[0m\u001b[0m\n\u001b[0;32m   1376\u001b[0m   \u001b[1;31m# The threshold to run garbage collection to delete dead tensors.\u001b[0m\u001b[1;33m\u001b[0m\u001b[1;33m\u001b[0m\u001b[0m\n",
      "\u001b[1;31mKeyboardInterrupt\u001b[0m: "
     ]
    }
   ],
   "source": [
    "train_datagen = ImageDataGenerator(rescale=1./255,\n",
    "                                   rotation_range=40,\n",
    "                                   width_shift_range=0.2,\n",
    "                                   height_shift_range=0.2,\n",
    "                                   shear_range=0.2,# 随机错切变幻的角度\n",
    "                                   zoom_range=0.2,# 图像随机缩放的范围\n",
    "                                   horizontal_flip=True,)# 随机将一半图像水平翻转\n",
    "test_datagen = ImageDataGenerator(rescale=1./255)\n",
    "\n",
    "train_generator = train_datagen.flow_from_directory(\n",
    "        train_dir,# 目标目录\n",
    "        target_size=(150,150), # 将图像调整为150*150\n",
    "        batch_size=40,\n",
    "        class_mode='categorical')# 因为使用了binary_crossentropy损失，所以需要使用二进制标签\n",
    "\n",
    "validation_generator = test_datagen.flow_from_directory(\n",
    "        validation_dir,\n",
    "        target_size=(150,150),\n",
    "        batch_size=40,\n",
    "        class_mode='categorical')\n",
    "\n",
    "history = model.fit_generator(\n",
    "    train_generator,\n",
    "    steps_per_epoch=100,\n",
    "    epochs=30,\n",
    "    validation_data=validation_generator,\n",
    "    validation_steps=50)"
   ]
  },
  {
   "cell_type": "code",
   "execution_count": 36,
   "metadata": {
    "collapsed": true
   },
   "outputs": [
    {
     "name": "stdout",
     "output_type": "stream",
     "text": [
      "<built-in method keys of dict object at 0x0000025E8E060630>\n"
     ]
    },
    {
     "data": {
      "image/png": "[encoded data removed]",
      "text/plain": [
       "<Figure size 432x288 with 1 Axes>"
      ]
     },
     "metadata": {},
     "output_type": "display_data"
    },
    {
     "data": {
      "image/png": "[encoded data removed]",
      "text/plain": [
       "<Figure size 432x288 with 1 Axes>"
      ]
     },
     "metadata": {},
     "output_type": "display_data"
    }
   ],
   "source": [
    "# 绘制训练过程中的损失曲线和精度曲线\n",
    "import matplotlib.pyplot as plt\n",
    "\n",
    "print(history.history.keys)\n",
    "acc = history.history['acc']\n",
    "val_acc = history.history['val_acc']\n",
    "loss = history.history['loss']\n",
    "val_loss = history.history['val_loss']\n",
    "\n",
    "epochs = range(1, len(acc) + 1)\n",
    "\n",
    "plt.plot(epochs, acc, 'bo', label='Training acc')\n",
    "plt.plot(epochs, val_acc, 'b', label='Validation acc')\n",
    "plt.title('Training and validation accuracy')\n",
    "plt.legend()\n",
    "\n",
    "plt.figure()\n",
    "\n",
    "plt.plot(epochs, loss, 'bo', label='Training loss')\n",
    "plt.plot(epochs, val_loss, 'b', label='Validation loss')\n",
    "plt.title('Training and validation loss')\n",
    "plt.legend()\n",
    "\n",
    "plt.show()"
   ]
  },
  {
   "cell_type": "code",
   "execution_count": 37,
   "metadata": {
    "collapsed": true
   },
   "outputs": [],
   "source": [
    "# 保存模型\n",
    "model.save('practice2-1-2-16-2.h5')"
   ]
  },
  {
   "cell_type": "markdown",
   "metadata": {
    "collapsed": true
   },
   "source": [
    "# 预训练"
   ]
  },
  {
   "cell_type": "code",
   "execution_count": 16,
   "metadata": {
    "scrolled": true
   },
   "outputs": [],
   "source": [
    "model = keras.models.load_model('4-9-VGG16-N45PLUS.h5')"
   ]
  },
  {
   "cell_type": "code",
   "execution_count": 17,
   "metadata": {},
   "outputs": [
    {
     "name": "stdout",
     "output_type": "stream",
     "text": [
      "Model: \"sequential_2\"\n",
      "_________________________________________________________________\n",
      "Layer (type)                 Output Shape              Param #   \n",
      "=================================================================\n",
      "vgg16 (Model)                (None, 4, 4, 512)         14714688  \n",
      "_________________________________________________________________\n",
      "flatten_1 (Flatten)          (None, 8192)              0         \n",
      "_________________________________________________________________\n",
      "dropout_2 (Dropout)          (None, 8192)              0         \n",
      "_________________________________________________________________\n",
      "dense_3 (Dense)              (None, 64)                524352    \n",
      "_________________________________________________________________\n",
      "dropout_3 (Dropout)          (None, 64)                0         \n",
      "_________________________________________________________________\n",
      "dense_4 (Dense)              (None, 22)                1430      \n",
      "=================================================================\n",
      "Total params: 15,240,470\n",
      "Trainable params: 7,605,206\n",
      "Non-trainable params: 7,635,264\n",
      "_________________________________________________________________\n"
     ]
    }
   ],
   "source": [
    "model.summary()"
   ]
  },
  {
   "cell_type": "code",
   "execution_count": 18,
   "metadata": {
    "collapsed": true
   },
   "outputs": [],
   "source": [
    "model1 = keras.models.clone_model(model)\n",
    "model1.set_weights(model.get_weights())"
   ]
  },
  {
   "cell_type": "code",
   "execution_count": 2,
   "metadata": {},
   "outputs": [
    {
     "name": "stderr",
     "output_type": "stream",
     "text": [
      "Using TensorFlow backend.\n"
     ]
    },
    {
     "name": "stdout",
     "output_type": "stream",
     "text": [
      "WARNING:tensorflow:From E:\\Anaconda\\envs\\keras-g\\lib\\site-packages\\keras\\backend\\tensorflow_backend.py:66: The name tf.get_default_graph is deprecated. Please use tf.compat.v1.get_default_graph instead.\n",
      "\n",
      "WARNING:tensorflow:From E:\\Anaconda\\envs\\keras-g\\lib\\site-packages\\keras\\backend\\tensorflow_backend.py:541: The name tf.placeholder is deprecated. Please use tf.compat.v1.placeholder instead.\n",
      "\n",
      "WARNING:tensorflow:From E:\\Anaconda\\envs\\keras-g\\lib\\site-packages\\keras\\backend\\tensorflow_backend.py:4432: The name tf.random_uniform is deprecated. Please use tf.random.uniform instead.\n",
      "\n",
      "WARNING:tensorflow:From E:\\Anaconda\\envs\\keras-g\\lib\\site-packages\\keras\\backend\\tensorflow_backend.py:4267: The name tf.nn.max_pool is deprecated. Please use tf.nn.max_pool2d instead.\n",
      "\n",
      "WARNING:tensorflow:From E:\\Anaconda\\envs\\keras-g\\lib\\site-packages\\keras\\backend\\tensorflow_backend.py:190: The name tf.get_default_session is deprecated. Please use tf.compat.v1.get_default_session instead.\n",
      "\n",
      "WARNING:tensorflow:From E:\\Anaconda\\envs\\keras-g\\lib\\site-packages\\keras\\backend\\tensorflow_backend.py:197: The name tf.ConfigProto is deprecated. Please use tf.compat.v1.ConfigProto instead.\n",
      "\n"
     ]
    }
   ],
   "source": [
    "# import keras\n",
    "# keras.__version__\n",
    "# from keras.applications import VGG19\n",
    "\n",
    "# conv_base = VGG19(weights='imagenet',# 指定模型初始化的圈中检查点\n",
    "#                     include_top=False,# 指定模型最后是否包含密集连接分类器\n",
    "#                     input_shape=(150,150,3))"
   ]
  },
  {
   "cell_type": "code",
   "execution_count": 1,
   "metadata": {},
   "outputs": [
    {
     "name": "stderr",
     "output_type": "stream",
     "text": [
      "Using TensorFlow backend.\n"
     ]
    },
    {
     "name": "stdout",
     "output_type": "stream",
     "text": [
      "WARNING:tensorflow:From E:\\Anaconda\\envs\\keras-g\\lib\\site-packages\\keras\\backend\\tensorflow_backend.py:66: The name tf.get_default_graph is deprecated. Please use tf.compat.v1.get_default_graph instead.\n",
      "\n",
      "WARNING:tensorflow:From E:\\Anaconda\\envs\\keras-g\\lib\\site-packages\\keras\\backend\\tensorflow_backend.py:541: The name tf.placeholder is deprecated. Please use tf.compat.v1.placeholder instead.\n",
      "\n",
      "WARNING:tensorflow:From E:\\Anaconda\\envs\\keras-g\\lib\\site-packages\\keras\\backend\\tensorflow_backend.py:4432: The name tf.random_uniform is deprecated. Please use tf.random.uniform instead.\n",
      "\n",
      "WARNING:tensorflow:From E:\\Anaconda\\envs\\keras-g\\lib\\site-packages\\keras\\backend\\tensorflow_backend.py:4267: The name tf.nn.max_pool is deprecated. Please use tf.nn.max_pool2d instead.\n",
      "\n",
      "WARNING:tensorflow:From E:\\Anaconda\\envs\\keras-g\\lib\\site-packages\\keras\\backend\\tensorflow_backend.py:190: The name tf.get_default_session is deprecated. Please use tf.compat.v1.get_default_session instead.\n",
      "\n",
      "WARNING:tensorflow:From E:\\Anaconda\\envs\\keras-g\\lib\\site-packages\\keras\\backend\\tensorflow_backend.py:197: The name tf.ConfigProto is deprecated. Please use tf.compat.v1.ConfigProto instead.\n",
      "\n"
     ]
    }
   ],
   "source": [
    "import keras\n",
    "keras.__version__\n",
    "from keras.applications import VGG16\n",
    "\n",
    "conv_base = VGG16(weights='imagenet',# 指定模型初始化的圈中检查点\n",
    "                    include_top=False,# 指定模型最后是否包含密集连接分类器\n",
    "                    input_shape=(150,150,3))"
   ]
  },
  {
   "cell_type": "code",
   "execution_count": 2,
   "metadata": {
    "collapsed": true
   },
   "outputs": [],
   "source": [
    "# import keras\n",
    "# keras.__version__\n",
    "# from keras.applications import NASNetLarge\n",
    "\n",
    "\n",
    "# conv_base = NASNetLarge(include_top=False,# 指定模型最后是否包含密集连接分类器\n",
    "#                   input_shape=(331, 331, 3),\n",
    "#                   weights='imagenet')"
   ]
  },
  {
   "cell_type": "code",
   "execution_count": 5,
   "metadata": {},
   "outputs": [
    {
     "name": "stdout",
     "output_type": "stream",
     "text": [
      "Model: \"vgg16\"\n",
      "_________________________________________________________________\n",
      "Layer (type)                 Output Shape              Param #   \n",
      "=================================================================\n",
      "input_1 (InputLayer)         (None, 240, 240, 3)       0         \n",
      "_________________________________________________________________\n",
      "block1_conv1 (Conv2D)        (None, 240, 240, 64)      1792      \n",
      "_________________________________________________________________\n",
      "block1_conv2 (Conv2D)        (None, 240, 240, 64)      36928     \n",
      "_________________________________________________________________\n",
      "block1_pool (MaxPooling2D)   (None, 120, 120, 64)      0         \n",
      "_________________________________________________________________\n",
      "block2_conv1 (Conv2D)        (None, 120, 120, 128)     73856     \n",
      "_________________________________________________________________\n",
      "block2_conv2 (Conv2D)        (None, 120, 120, 128)     147584    \n",
      "_________________________________________________________________\n",
      "block2_pool (MaxPooling2D)   (None, 60, 60, 128)       0         \n",
      "_________________________________________________________________\n",
      "block3_conv1 (Conv2D)        (None, 60, 60, 256)       295168    \n",
      "_________________________________________________________________\n",
      "block3_conv2 (Conv2D)        (None, 60, 60, 256)       590080    \n",
      "_________________________________________________________________\n",
      "block3_conv3 (Conv2D)        (None, 60, 60, 256)       590080    \n",
      "_________________________________________________________________\n",
      "block3_pool (MaxPooling2D)   (None, 30, 30, 256)       0         \n",
      "_________________________________________________________________\n",
      "block4_conv1 (Conv2D)        (None, 30, 30, 512)       1180160   \n",
      "_________________________________________________________________\n",
      "block4_conv2 (Conv2D)        (None, 30, 30, 512)       2359808   \n",
      "_________________________________________________________________\n",
      "block4_conv3 (Conv2D)        (None, 30, 30, 512)       2359808   \n",
      "_________________________________________________________________\n",
      "block4_pool (MaxPooling2D)   (None, 15, 15, 512)       0         \n",
      "_________________________________________________________________\n",
      "block5_conv1 (Conv2D)        (None, 15, 15, 512)       2359808   \n",
      "_________________________________________________________________\n",
      "block5_conv2 (Conv2D)        (None, 15, 15, 512)       2359808   \n",
      "_________________________________________________________________\n",
      "block5_conv3 (Conv2D)        (None, 15, 15, 512)       2359808   \n",
      "_________________________________________________________________\n",
      "block5_pool (MaxPooling2D)   (None, 7, 7, 512)         0         \n",
      "=================================================================\n",
      "Total params: 14,714,688\n",
      "Trainable params: 14,714,688\n",
      "Non-trainable params: 0\n",
      "_________________________________________________________________\n"
     ]
    }
   ],
   "source": [
    "conv_base.summary()"
   ]
  },
  {
   "cell_type": "code",
   "execution_count": 5,
   "metadata": {},
   "outputs": [
    {
     "name": "stdout",
     "output_type": "stream",
     "text": [
      "Model: \"sequential_2\"\n",
      "_________________________________________________________________\n",
      "Layer (type)                 Output Shape              Param #   \n",
      "=================================================================\n",
      "vgg16 (Model)                (None, 4, 4, 512)         14714688  \n",
      "_________________________________________________________________\n",
      "flatten_1 (Flatten)          (None, 8192)              0         \n",
      "_________________________________________________________________\n",
      "dropout_2 (Dropout)          (None, 8192)              0         \n",
      "_________________________________________________________________\n",
      "dense_3 (Dense)              (None, 64)                524352    \n",
      "_________________________________________________________________\n",
      "dropout_3 (Dropout)          (None, 64)                0         \n",
      "_________________________________________________________________\n",
      "dense_4 (Dense)              (None, 22)                1430      \n",
      "=================================================================\n",
      "Total params: 15,240,470\n",
      "Trainable params: 7,605,206\n",
      "Non-trainable params: 7,635,264\n",
      "_________________________________________________________________\n"
     ]
    }
   ],
   "source": [
    "model1.summary()"
   ]
  },
  {
   "cell_type": "code",
   "execution_count": 10,
   "metadata": {},
   "outputs": [
    {
     "name": "stdout",
     "output_type": "stream",
     "text": [
      "Found 3126 images belonging to 22 classes.\n"
     ]
    },
    {
     "ename": "ValueError",
     "evalue": "could not broadcast input array from shape (80,22) into shape (80,23)",
     "output_type": "error",
     "traceback": [
      "\u001b[1;31m---------------------------------------------------------------------------\u001b[0m",
      "\u001b[1;31mValueError\u001b[0m                                Traceback (most recent call last)",
      "\u001b[1;32m<ipython-input-10-8d02b417f988>\u001b[0m in \u001b[0;36m<module>\u001b[1;34m()\u001b[0m\n\u001b[0;32m     34\u001b[0m             \u001b[1;32mbreak\u001b[0m\u001b[1;33m\u001b[0m\u001b[0m\n\u001b[0;32m     35\u001b[0m     \u001b[1;32mreturn\u001b[0m \u001b[0mfeatures\u001b[0m\u001b[1;33m,\u001b[0m \u001b[0mlabels\u001b[0m\u001b[1;33m\u001b[0m\u001b[0m\n\u001b[1;32m---> 36\u001b[1;33m \u001b[0mtrain_features\u001b[0m\u001b[1;33m,\u001b[0m \u001b[0mtrain_labels\u001b[0m \u001b[1;33m=\u001b[0m \u001b[0mextract_features\u001b[0m\u001b[1;33m(\u001b[0m\u001b[0mtrain_dir\u001b[0m\u001b[1;33m,\u001b[0m \u001b[1;36m3115\u001b[0m\u001b[1;33m)\u001b[0m\u001b[1;33m\u001b[0m\u001b[0m\n\u001b[0m\u001b[0;32m     37\u001b[0m \u001b[0mvalidation_features\u001b[0m\u001b[1;33m,\u001b[0m \u001b[0mvalidation_labels\u001b[0m \u001b[1;33m=\u001b[0m \u001b[0mextract_features\u001b[0m\u001b[1;33m(\u001b[0m\u001b[0mvalidation_dir\u001b[0m\u001b[1;33m,\u001b[0m \u001b[1;36m376\u001b[0m\u001b[1;33m)\u001b[0m\u001b[1;33m\u001b[0m\u001b[0m\n\u001b[0;32m     38\u001b[0m \u001b[0mtest_features\u001b[0m\u001b[1;33m,\u001b[0m \u001b[0mtest_labels\u001b[0m \u001b[1;33m=\u001b[0m \u001b[0mextract_features\u001b[0m\u001b[1;33m(\u001b[0m\u001b[0mtest_dir\u001b[0m\u001b[1;33m,\u001b[0m \u001b[1;36m346\u001b[0m\u001b[1;33m)\u001b[0m\u001b[1;33m\u001b[0m\u001b[0m\n",
      "\u001b[1;32m<ipython-input-10-8d02b417f988>\u001b[0m in \u001b[0;36mextract_features\u001b[1;34m(directory, sample_count)\u001b[0m\n\u001b[0;32m     28\u001b[0m         \u001b[0mfeatures_batch\u001b[0m \u001b[1;33m=\u001b[0m \u001b[0mconv_base\u001b[0m\u001b[1;33m.\u001b[0m\u001b[0mpredict\u001b[0m\u001b[1;33m(\u001b[0m\u001b[0minputs_batch\u001b[0m\u001b[1;33m)\u001b[0m\u001b[1;33m\u001b[0m\u001b[0m\n\u001b[0;32m     29\u001b[0m         \u001b[0mfeatures\u001b[0m\u001b[1;33m[\u001b[0m\u001b[0mi\u001b[0m \u001b[1;33m*\u001b[0m \u001b[0mbatch_size\u001b[0m \u001b[1;33m:\u001b[0m \u001b[1;33m(\u001b[0m \u001b[0mi\u001b[0m \u001b[1;33m+\u001b[0m \u001b[1;36m1\u001b[0m \u001b[1;33m)\u001b[0m \u001b[1;33m*\u001b[0m \u001b[0mbatch_size\u001b[0m\u001b[1;33m]\u001b[0m \u001b[1;33m=\u001b[0m \u001b[0mfeatures_batch\u001b[0m\u001b[1;33m\u001b[0m\u001b[0m\n\u001b[1;32m---> 30\u001b[1;33m         \u001b[0mlabels\u001b[0m\u001b[1;33m[\u001b[0m\u001b[0mi\u001b[0m \u001b[1;33m*\u001b[0m \u001b[0mbatch_size\u001b[0m \u001b[1;33m:\u001b[0m \u001b[1;33m(\u001b[0m\u001b[0mi\u001b[0m \u001b[1;33m+\u001b[0m \u001b[1;36m1\u001b[0m\u001b[1;33m)\u001b[0m \u001b[1;33m*\u001b[0m \u001b[0mbatch_size\u001b[0m\u001b[1;33m]\u001b[0m \u001b[1;33m=\u001b[0m \u001b[0mlabels_batch\u001b[0m\u001b[1;33m\u001b[0m\u001b[0m\n\u001b[0m\u001b[0;32m     31\u001b[0m         \u001b[0mi\u001b[0m \u001b[1;33m+=\u001b[0m\u001b[1;36m1\u001b[0m\u001b[1;33m\u001b[0m\u001b[0m\n\u001b[0;32m     32\u001b[0m \u001b[1;31m#         所有数据读取完之后结束循环\u001b[0m\u001b[1;33m\u001b[0m\u001b[1;33m\u001b[0m\u001b[0m\n",
      "\u001b[1;31mValueError\u001b[0m: could not broadcast input array from shape (80,22) into shape (80,23)"
     ]
    }
   ],
   "source": [
    "# 不适用数据增强的快速特征提取\n",
    "import os\n",
    "import numpy as np\n",
    "from keras.preprocessing.image import ImageDataGenerator\n",
    "\n",
    "base_dir = 'E:/program/practice2'\n",
    "train_dir = os.path.join(base_dir, 'train')\n",
    "validation_dir = os.path.join(base_dir, 'validation')\n",
    "test_dir = os.path.join(base_dir, 'test')\n",
    "\n",
    "datagen = ImageDataGenerator(rescale=1./255)\n",
    "batch_size = 80\n",
    "\n",
    "def extract_features(directory, sample_count):\n",
    "    features = np.zeros(shape=(sample_count, 4, 4, 512))\n",
    "\n",
    "    #     更改\n",
    "\n",
    "\n",
    "    labels = np.zeros(shape=(sample_count, 23))# 更改\n",
    "    generator = datagen.flow_from_directory(\n",
    "        directory,\n",
    "        target_size=(150,150),\n",
    "        batch_size=batch_size,\n",
    "        class_mode='categorical')\n",
    "    i=0\n",
    "    for inputs_batch, labels_batch in generator:\n",
    "        features_batch = conv_base.predict(inputs_batch)\n",
    "        features[i * batch_size : ( i + 1 ) * batch_size] = features_batch\n",
    "        labels[i * batch_size : (i + 1) * batch_size] = labels_batch\n",
    "        i +=1\n",
    "#         所有数据读取完之后结束循环\n",
    "        if i*batch_size >= sample_count:\n",
    "            break\n",
    "    return features, labels\n",
    "train_features, train_labels = extract_features(train_dir, 3126)\n",
    "validation_features, validation_labels = extract_features(validation_dir, 376)\n",
    "test_features, test_labels = extract_features(test_dir, 346)\n",
    "\n",
    "\n"
   ]
  },
  {
   "cell_type": "code",
   "execution_count": 5,
   "metadata": {
    "collapsed": true
   },
   "outputs": [],
   "source": [
    "train_features = np.reshape(train_features, (3115, 4 * 4 * 512))\n",
    "validation_features = np.reshape(validation_features, (376, 4 * 4 * 512)) \n",
    "test_features = np.reshape(test_features, (346, 4 * 4 * 512))"
   ]
  },
  {
   "cell_type": "code",
   "execution_count": 6,
   "metadata": {
    "scrolled": true
   },
   "outputs": [
    {
     "name": "stdout",
     "output_type": "stream",
     "text": [
      "WARNING:tensorflow:From E:\\Anaconda\\envs\\keras-g\\lib\\site-packages\\keras\\backend\\tensorflow_backend.py:3733: calling dropout (from tensorflow.python.ops.nn_ops) with keep_prob is deprecated and will be removed in a future version.\n",
      "Instructions for updating:\n",
      "Please use `rate` instead of `keep_prob`. Rate should be set to `rate = 1 - keep_prob`.\n",
      "WARNING:tensorflow:From E:\\Anaconda\\envs\\keras-g\\lib\\site-packages\\keras\\optimizers.py:793: The name tf.train.Optimizer is deprecated. Please use tf.compat.v1.train.Optimizer instead.\n",
      "\n",
      "WARNING:tensorflow:From E:\\Anaconda\\envs\\keras-g\\lib\\site-packages\\tensorflow\\python\\ops\\math_grad.py:1250: add_dispatch_support.<locals>.wrapper (from tensorflow.python.ops.array_ops) is deprecated and will be removed in a future version.\n",
      "Instructions for updating:\n",
      "Use tf.where in 2.0, which has the same broadcast rule as np.where\n",
      "Train on 2986 samples, validate on 357 samples\n",
      "Epoch 1/30\n",
      "2986/2986 [==============================] - 1s 469us/step - loss: 2.7419 - acc: 0.2110 - val_loss: 2.3063 - val_acc: 0.4118\n",
      "Epoch 2/30\n",
      "2986/2986 [==============================] - 1s 331us/step - loss: 2.1542 - acc: 0.3962 - val_loss: 1.8878 - val_acc: 0.4958\n",
      "Epoch 3/30\n",
      "2986/2986 [==============================] - 1s 356us/step - loss: 1.7985 - acc: 0.4910 - val_loss: 1.5883 - val_acc: 0.5910\n",
      "Epoch 4/30\n",
      "2986/2986 [==============================] - 1s 329us/step - loss: 1.5447 - acc: 0.5663 - val_loss: 1.3837 - val_acc: 0.6639\n",
      "Epoch 5/30\n",
      "2986/2986 [==============================] - 1s 335us/step - loss: 1.3561 - acc: 0.6383 - val_loss: 1.2232 - val_acc: 0.7087\n",
      "Epoch 6/30\n",
      "2986/2986 [==============================] - 1s 334us/step - loss: 1.1837 - acc: 0.6745 - val_loss: 1.1117 - val_acc: 0.7535\n",
      "Epoch 7/30\n",
      "2986/2986 [==============================] - 1s 336us/step - loss: 1.0887 - acc: 0.7157 - val_loss: 1.0101 - val_acc: 0.7787\n",
      "Epoch 8/30\n",
      "2986/2986 [==============================] - 1s 330us/step - loss: 0.9908 - acc: 0.7371 - val_loss: 0.9647 - val_acc: 0.7591\n",
      "Epoch 9/30\n",
      "2986/2986 [==============================] - 1s 335us/step - loss: 0.9111 - acc: 0.7689 - val_loss: 0.8675 - val_acc: 0.7843\n",
      "Epoch 10/30\n",
      "2986/2986 [==============================] - 1s 335us/step - loss: 0.8254 - acc: 0.7914 - val_loss: 0.8278 - val_acc: 0.7871\n",
      "Epoch 11/30\n",
      "2986/2986 [==============================] - 1s 335us/step - loss: 0.7626 - acc: 0.8101 - val_loss: 0.7902 - val_acc: 0.8039\n",
      "Epoch 12/30\n",
      "2986/2986 [==============================] - 1s 334us/step - loss: 0.6805 - acc: 0.8369 - val_loss: 0.7353 - val_acc: 0.8151\n",
      "Epoch 13/30\n",
      "2986/2986 [==============================] - 1s 340us/step - loss: 0.6349 - acc: 0.8456 - val_loss: 0.6888 - val_acc: 0.8347\n",
      "Epoch 14/30\n",
      "2986/2986 [==============================] - 1s 333us/step - loss: 0.5785 - acc: 0.8583 - val_loss: 0.6789 - val_acc: 0.8319\n",
      "Epoch 15/30\n",
      "2986/2986 [==============================] - 1s 362us/step - loss: 0.5568 - acc: 0.8691 - val_loss: 0.6343 - val_acc: 0.8431\n",
      "Epoch 16/30\n",
      "2986/2986 [==============================] - 1s 354us/step - loss: 0.5012 - acc: 0.8814 - val_loss: 0.6083 - val_acc: 0.8431\n",
      "Epoch 17/30\n",
      "2986/2986 [==============================] - 1s 334us/step - loss: 0.4801 - acc: 0.8791 - val_loss: 0.5699 - val_acc: 0.8627\n",
      "Epoch 18/30\n",
      "2986/2986 [==============================] - 1s 335us/step - loss: 0.4422 - acc: 0.8979 - val_loss: 0.5905 - val_acc: 0.8543\n",
      "Epoch 19/30\n",
      "2986/2986 [==============================] - 1s 330us/step - loss: 0.4244 - acc: 0.8962 - val_loss: 0.5421 - val_acc: 0.8683\n",
      "Epoch 20/30\n",
      "2986/2986 [==============================] - 1s 335us/step - loss: 0.4023 - acc: 0.9089 - val_loss: 0.5480 - val_acc: 0.8599\n",
      "Epoch 21/30\n",
      "2986/2986 [==============================] - 1s 346us/step - loss: 0.3703 - acc: 0.9206 - val_loss: 0.5063 - val_acc: 0.8739\n",
      "Epoch 22/30\n",
      "2986/2986 [==============================] - 1s 352us/step - loss: 0.3531 - acc: 0.9193 - val_loss: 0.5114 - val_acc: 0.8739\n",
      "Epoch 23/30\n",
      "2986/2986 [==============================] - 1s 340us/step - loss: 0.3205 - acc: 0.9290 - val_loss: 0.5246 - val_acc: 0.8599\n",
      "Epoch 24/30\n",
      "2986/2986 [==============================] - 1s 346us/step - loss: 0.3053 - acc: 0.9387 - val_loss: 0.4813 - val_acc: 0.8796\n",
      "Epoch 25/30\n",
      "2986/2986 [==============================] - 1s 336us/step - loss: 0.2915 - acc: 0.9424 - val_loss: 0.4774 - val_acc: 0.8824\n",
      "Epoch 26/30\n",
      "2986/2986 [==============================] - 1s 332us/step - loss: 0.2889 - acc: 0.9350 - val_loss: 0.4558 - val_acc: 0.8880\n",
      "Epoch 27/30\n",
      "2986/2986 [==============================] - 1s 341us/step - loss: 0.2523 - acc: 0.9534 - val_loss: 0.4753 - val_acc: 0.8711\n",
      "Epoch 28/30\n",
      "2986/2986 [==============================] - 1s 348us/step - loss: 0.2517 - acc: 0.9481 - val_loss: 0.4243 - val_acc: 0.9104\n",
      "Epoch 29/30\n",
      "2986/2986 [==============================] - 1s 354us/step - loss: 0.2283 - acc: 0.9528 - val_loss: 0.4616 - val_acc: 0.8796\n",
      "Epoch 30/30\n",
      "2986/2986 [==============================] - 1s 341us/step - loss: 0.2243 - acc: 0.9578 - val_loss: 0.4298 - val_acc: 0.8936\n"
     ]
    }
   ],
   "source": [
    "# 定义并训练密集连接分类器\n",
    "from keras import models\n",
    "from keras import layers\n",
    "from keras import optimizers\n",
    "\n",
    "model = models.Sequential()\n",
    "model.add(layers.Dense(128, activation='relu', input_dim=7 * 7 * 512))\n",
    "model.add(layers.Dropout(0.5))\n",
    "model.add(layers.Dense(22, activation='softmax'))\n",
    "\n",
    "model.compile(optimizer = optimizers.RMSprop(2e-5),\n",
    "              loss='categorical_crossentropy',\n",
    "              metrics=['acc'])\n",
    "\n",
    "history = model.fit(train_features, train_labels,\n",
    "                    epochs=30,\n",
    "                    batch_size=40,\n",
    "                    validation_data=(validation_features, validation_labels))\n"
   ]
  },
  {
   "cell_type": "code",
   "execution_count": 7,
   "metadata": {},
   "outputs": [
    {
     "name": "stdout",
     "output_type": "stream",
     "text": [
      "<built-in method keys of dict object at 0x00000221BFFAD948>\n"
     ]
    },
    {
     "data": {
      "image/png": "[encoded data removed]",
      "text/plain": [
       "<Figure size 432x288 with 1 Axes>"
      ]
     },
     "metadata": {},
     "output_type": "display_data"
    },
    {
     "data": {
      "image/png": "[encoded data removed]",
      "text/plain": [
       "<Figure size 432x288 with 1 Axes>"
      ]
     },
     "metadata": {},
     "output_type": "display_data"
    }
   ],
   "source": [
    "# 绘制训练过程中的损失曲线和精度曲线\n",
    "import matplotlib.pyplot as plt\n",
    "\n",
    "print(history.history.keys)\n",
    "acc = history.history['acc']\n",
    "val_acc = history.history['val_acc']\n",
    "loss = history.history['loss']\n",
    "val_loss = history.history['val_loss']\n",
    "\n",
    "epochs = range(1, len(acc) + 1)\n",
    "\n",
    "plt.plot(epochs, acc, 'bo', label='Training acc')\n",
    "plt.plot(epochs, val_acc, 'b', label='Validation acc')\n",
    "plt.title('Training and validation accuracy')\n",
    "plt.legend()\n",
    "\n",
    "plt.figure()\n",
    "\n",
    "plt.plot(epochs, loss, 'bo', label='Training loss')\n",
    "plt.plot(epochs, val_loss, 'b', label='Validation loss')\n",
    "plt.title('Training and validation loss')\n",
    "plt.legend()\n",
    "\n",
    "plt.show()"
   ]
  },
  {
   "cell_type": "code",
   "execution_count": 8,
   "metadata": {
    "collapsed": true
   },
   "outputs": [],
   "source": [
    "model.save('4-8-VGG16-200.h5')"
   ]
  },
  {
   "cell_type": "markdown",
   "metadata": {},
   "source": [
    "# 数据增强+特征提取"
   ]
  },
  {
   "cell_type": "code",
   "execution_count": 9,
   "metadata": {
    "collapsed": true
   },
   "outputs": [],
   "source": [
    "# # 在卷积基上添加一个密集连接分类器\n",
    "# from keras import models\n",
    "# from keras import layers \n",
    "\n",
    "# model1 = models.Sequential()\n",
    "# model.add(conv_base)\n",
    "# model.add(layers.Flatten())\n",
    "# model.add(layers.Dropout(0.5))\n",
    "# model.add(layers.Dense(64, activation='relu'))\n",
    "# model.add(layers.Dropout(0.5))\n",
    "# model.add(layers.Dense(128, activation='relu'))\n",
    "# model.add(layers.Dense(22, activation='softmax'))\n"
   ]
  },
  {
   "cell_type": "code",
   "execution_count": null,
   "metadata": {
    "collapsed": true
   },
   "outputs": [],
   "source": []
  },
  {
   "cell_type": "code",
   "execution_count": 6,
   "metadata": {},
   "outputs": [
    {
     "name": "stdout",
     "output_type": "stream",
     "text": [
      "Model: \"sequential_2\"\n",
      "_________________________________________________________________\n",
      "Layer (type)                 Output Shape              Param #   \n",
      "=================================================================\n",
      "vgg16 (Model)                (None, 4, 4, 512)         14714688  \n",
      "_________________________________________________________________\n",
      "flatten_1 (Flatten)          (None, 8192)              0         \n",
      "_________________________________________________________________\n",
      "dropout_2 (Dropout)          (None, 8192)              0         \n",
      "_________________________________________________________________\n",
      "dense_3 (Dense)              (None, 64)                524352    \n",
      "_________________________________________________________________\n",
      "dropout_3 (Dropout)          (None, 64)                0         \n",
      "_________________________________________________________________\n",
      "dense_4 (Dense)              (None, 22)                1430      \n",
      "=================================================================\n",
      "Total params: 15,240,470\n",
      "Trainable params: 7,605,206\n",
      "Non-trainable params: 7,635,264\n",
      "_________________________________________________________________\n"
     ]
    }
   ],
   "source": [
    "model1.summary()"
   ]
  },
  {
   "cell_type": "code",
   "execution_count": 7,
   "metadata": {},
   "outputs": [],
   "source": [
    "# model.summary()\n"
   ]
  },
  {
   "cell_type": "code",
   "execution_count": 8,
   "metadata": {
    "collapsed": true
   },
   "outputs": [],
   "source": [
    "conv_base.trainable = False"
   ]
  },
  {
   "cell_type": "code",
   "execution_count": 19,
   "metadata": {},
   "outputs": [
    {
     "name": "stdout",
     "output_type": "stream",
     "text": [
      "Found 3208 images belonging to 22 classes.\n",
      "Found 392 images belonging to 22 classes.\n"
     ]
    }
   ],
   "source": [
    "# 利用冻结的卷积基端到端的训练模型\n",
    "\n",
    "from keras.preprocessing.image import ImageDataGenerator\n",
    "from keras import  optimizers \n",
    "\n",
    "def image_enhance():\n",
    "    return ImageDataGenerator(\n",
    "    rescale=1./255,\n",
    "    rotation_range=60,\n",
    "    width_shift_range=0.2,\n",
    "    height_shift_range=0.2,\n",
    "    shear_range=0.2,\n",
    "    zoom_range=0.2,\n",
    "    horizontal_flip=True,\n",
    "    fill_mode='nearest')\n",
    "\n",
    "\n",
    "train_datagen = ImageDataGenerator(\n",
    "        rescale=1./255,\n",
    "        rotation_range=60,\n",
    "        width_shift_range=0.2,\n",
    "        height_shift_range=0.2,\n",
    "        shear_range=0.2,\n",
    "        zoom_range=0.2,\n",
    "        horizontal_flip=True,\n",
    "        fill_mode='nearest')\n",
    "\n",
    "\n",
    "test_datagen = ImageDataGenerator(rescale=1./255)\n",
    "\n",
    "train_generator = train_datagen.flow_from_directory(\n",
    "        train_dir,# 目标目录\n",
    "        target_size=(150, 150),# 调整为150*150\n",
    "        batch_size=80,\n",
    "#     因为使用了binary_crossentropy损失，所以需要使用二进制标签\n",
    "        class_mode='categorical')\n",
    "\n",
    "validation_generator = test_datagen.flow_from_directory(\n",
    "       validation_dir,# 目标目录\n",
    "        target_size=(150, 150),# 调整为150*150\n",
    "        batch_size=80,\n",
    "#     因为使用了binary_crossentropy损失，所以需要使用二进制标签\n",
    "        class_mode='categorical')"
   ]
  },
  {
   "cell_type": "code",
   "execution_count": 20,
   "metadata": {
    "scrolled": false
   },
   "outputs": [
    {
     "name": "stdout",
     "output_type": "stream",
     "text": [
      "Epoch 1/50\n",
      " 2/50 [>.............................] - ETA: 1:08 - loss: 0.6338 - acc: 0.8500"
     ]
    },
    {
     "name": "stderr",
     "output_type": "stream",
     "text": [
      "E:\\Anaconda\\envs\\keras-g\\lib\\site-packages\\PIL\\Image.py:963: UserWarning: Palette images with Transparency expressed in bytes should be converted to RGBA images\n",
      "  \"Palette images with Transparency expressed in bytes should be \"\n"
     ]
    },
    {
     "name": "stdout",
     "output_type": "stream",
     "text": [
      "28/50 [===============>..............] - ETA: 25s - loss: 0.4910 - acc: 0.8763"
     ]
    },
    {
     "name": "stderr",
     "output_type": "stream",
     "text": [
      "E:\\Anaconda\\envs\\keras-g\\lib\\site-packages\\PIL\\TiffImagePlugin.py:793: UserWarning: Corrupt EXIF data.  Expecting to read 4 bytes but only got 0. \n",
      "  warnings.warn(str(msg))\n"
     ]
    },
    {
     "name": "stdout",
     "output_type": "stream",
     "text": [
      "50/50 [==============================] - 75s 2s/step - loss: 0.4625 - acc: 0.8820 - val_loss: 0.4757 - val_acc: 0.8776\n",
      "Epoch 2/50\n",
      "50/50 [==============================] - 63s 1s/step - loss: 0.4113 - acc: 0.8878 - val_loss: 0.4261 - val_acc: 0.8827\n",
      "Epoch 3/50\n",
      "50/50 [==============================] - 62s 1s/step - loss: 0.3703 - acc: 0.9017 - val_loss: 0.4401 - val_acc: 0.9107\n",
      "Epoch 4/50\n",
      "50/50 [==============================] - 64s 1s/step - loss: 0.3622 - acc: 0.8986 - val_loss: 0.3718 - val_acc: 0.9184\n",
      "Epoch 5/50\n",
      "50/50 [==============================] - 73s 1s/step - loss: 0.3406 - acc: 0.8983 - val_loss: 0.3776 - val_acc: 0.9286\n",
      "Epoch 6/50\n",
      "50/50 [==============================] - 65s 1s/step - loss: 0.3069 - acc: 0.9132 - val_loss: 0.3239 - val_acc: 0.9235\n",
      "Epoch 7/50\n",
      "50/50 [==============================] - 67s 1s/step - loss: 0.2912 - acc: 0.9150 - val_loss: 0.2917 - val_acc: 0.9235\n",
      "Epoch 8/50\n",
      "50/50 [==============================] - 65s 1s/step - loss: 0.2809 - acc: 0.9240 - val_loss: 0.2850 - val_acc: 0.9388\n",
      "Epoch 9/50\n",
      "50/50 [==============================] - 68s 1s/step - loss: 0.3018 - acc: 0.9094 - val_loss: 0.3449 - val_acc: 0.9388\n",
      "Epoch 10/50\n",
      "50/50 [==============================] - 79s 2s/step - loss: 0.2579 - acc: 0.9285 - val_loss: 0.3005 - val_acc: 0.9490\n",
      "Epoch 11/50\n",
      "50/50 [==============================] - 68s 1s/step - loss: 0.2441 - acc: 0.9307 - val_loss: 0.2888 - val_acc: 0.9413\n",
      "Epoch 12/50\n",
      "50/50 [==============================] - 67s 1s/step - loss: 0.2295 - acc: 0.9327 - val_loss: 0.3198 - val_acc: 0.9337\n",
      "Epoch 13/50\n",
      "50/50 [==============================] - 66s 1s/step - loss: 0.2203 - acc: 0.9362 - val_loss: 0.3358 - val_acc: 0.9260\n",
      "Epoch 14/50\n",
      "50/50 [==============================] - 74s 1s/step - loss: 0.2223 - acc: 0.9362 - val_loss: 0.2780 - val_acc: 0.9464\n",
      "Epoch 15/50\n",
      "50/50 [==============================] - 67s 1s/step - loss: 0.2327 - acc: 0.9325 - val_loss: 0.3154 - val_acc: 0.9388\n",
      "Epoch 16/50\n",
      "50/50 [==============================] - 69s 1s/step - loss: 0.2118 - acc: 0.9387 - val_loss: 0.3545 - val_acc: 0.9413\n",
      "Epoch 17/50\n",
      "50/50 [==============================] - 67s 1s/step - loss: 0.2125 - acc: 0.9397 - val_loss: 0.3061 - val_acc: 0.9362\n",
      "Epoch 18/50\n",
      "50/50 [==============================] - 68s 1s/step - loss: 0.1994 - acc: 0.9455 - val_loss: 0.2664 - val_acc: 0.9541\n",
      "Epoch 19/50\n",
      "50/50 [==============================] - 165s 3s/step - loss: 0.2044 - acc: 0.9390 - val_loss: 0.3035 - val_acc: 0.9413\n",
      "Epoch 20/50\n",
      "50/50 [==============================] - 225s 4s/step - loss: 0.1920 - acc: 0.9422 - val_loss: 0.3215 - val_acc: 0.9362\n",
      "Epoch 21/50\n",
      "50/50 [==============================] - 224s 4s/step - loss: 0.1977 - acc: 0.9452 - val_loss: 0.3168 - val_acc: 0.9337\n",
      "Epoch 22/50\n",
      "50/50 [==============================] - 230s 5s/step - loss: 0.1698 - acc: 0.9520 - val_loss: 0.2832 - val_acc: 0.9592\n",
      "Epoch 23/50\n",
      "50/50 [==============================] - 234s 5s/step - loss: 0.1725 - acc: 0.9507 - val_loss: 0.2614 - val_acc: 0.9617\n",
      "Epoch 24/50\n",
      "50/50 [==============================] - 219s 4s/step - loss: 0.1801 - acc: 0.9475 - val_loss: 0.2795 - val_acc: 0.9464\n",
      "Epoch 25/50\n",
      "50/50 [==============================] - 223s 4s/step - loss: 0.1657 - acc: 0.9510 - val_loss: 0.2632 - val_acc: 0.9515\n",
      "Epoch 26/50\n",
      "50/50 [==============================] - 232s 5s/step - loss: 0.1728 - acc: 0.9500 - val_loss: 0.2774 - val_acc: 0.9490\n",
      "Epoch 27/50\n",
      "50/50 [==============================] - 1303s 26s/step - loss: 0.1549 - acc: 0.9520 - val_loss: 0.2671 - val_acc: 0.9541\n",
      "Epoch 28/50\n",
      "50/50 [==============================] - 74s 1s/step - loss: 0.1638 - acc: 0.9520 - val_loss: 0.3196 - val_acc: 0.9413\n",
      "Epoch 29/50\n",
      "50/50 [==============================] - 65s 1s/step - loss: 0.1672 - acc: 0.9532 - val_loss: 0.2878 - val_acc: 0.9439\n",
      "Epoch 30/50\n",
      "50/50 [==============================] - 65s 1s/step - loss: 0.1513 - acc: 0.9568 - val_loss: 0.2580 - val_acc: 0.9592\n",
      "Epoch 31/50\n",
      "50/50 [==============================] - 65s 1s/step - loss: 0.1553 - acc: 0.9567 - val_loss: 0.2873 - val_acc: 0.9541\n",
      "Epoch 32/50\n",
      "50/50 [==============================] - 73s 1s/step - loss: 0.1500 - acc: 0.9592 - val_loss: 0.2812 - val_acc: 0.9592\n",
      "Epoch 33/50\n",
      "50/50 [==============================] - 66s 1s/step - loss: 0.1493 - acc: 0.9607 - val_loss: 0.2758 - val_acc: 0.9566\n",
      "Epoch 34/50\n",
      "50/50 [==============================] - 66s 1s/step - loss: 0.1346 - acc: 0.9600 - val_loss: 0.3897 - val_acc: 0.9286\n",
      "Epoch 35/50\n",
      "50/50 [==============================] - 66s 1s/step - loss: 0.1498 - acc: 0.9595 - val_loss: 0.3409 - val_acc: 0.9286\n",
      "Epoch 36/50\n",
      "50/50 [==============================] - 67s 1s/step - loss: 0.1447 - acc: 0.9602 - val_loss: 0.2651 - val_acc: 0.9464\n",
      "Epoch 37/50\n",
      "50/50 [==============================] - 74s 1s/step - loss: 0.1544 - acc: 0.9535 - val_loss: 0.2561 - val_acc: 0.9566\n",
      "Epoch 38/50\n",
      "50/50 [==============================] - 67s 1s/step - loss: 0.1288 - acc: 0.9612 - val_loss: 0.2578 - val_acc: 0.9592\n",
      "Epoch 39/50\n",
      "50/50 [==============================] - 67s 1s/step - loss: 0.1314 - acc: 0.9610 - val_loss: 0.3175 - val_acc: 0.9388\n",
      "Epoch 40/50\n",
      "50/50 [==============================] - 67s 1s/step - loss: 0.1335 - acc: 0.9627 - val_loss: 0.3144 - val_acc: 0.9388\n",
      "Epoch 41/50\n",
      "50/50 [==============================] - 72s 1s/step - loss: 0.1219 - acc: 0.9640 - val_loss: 0.2616 - val_acc: 0.9592\n",
      "Epoch 42/50\n",
      "50/50 [==============================] - 66s 1s/step - loss: 0.1363 - acc: 0.9630 - val_loss: 0.2914 - val_acc: 0.9490\n",
      "Epoch 43/50\n",
      "50/50 [==============================] - 69s 1s/step - loss: 0.1197 - acc: 0.9650 - val_loss: 0.2441 - val_acc: 0.9566\n",
      "Epoch 44/50\n",
      "50/50 [==============================] - 67s 1s/step - loss: 0.1208 - acc: 0.9642 - val_loss: 0.2488 - val_acc: 0.9617\n",
      "Epoch 45/50\n",
      "50/50 [==============================] - 67s 1s/step - loss: 0.1136 - acc: 0.9668 - val_loss: 0.2437 - val_acc: 0.9643\n",
      "Epoch 46/50\n",
      "50/50 [==============================] - 76s 2s/step - loss: 0.1122 - acc: 0.9675 - val_loss: 0.2871 - val_acc: 0.9515\n",
      "Epoch 47/50\n",
      "50/50 [==============================] - 69s 1s/step - loss: 0.1056 - acc: 0.9705 - val_loss: 0.2616 - val_acc: 0.9592\n",
      "Epoch 48/50\n",
      "50/50 [==============================] - 68s 1s/step - loss: 0.1162 - acc: 0.9680 - val_loss: 0.2343 - val_acc: 0.9694\n",
      "Epoch 49/50\n",
      "50/50 [==============================] - 69s 1s/step - loss: 0.1169 - acc: 0.9615 - val_loss: 0.2460 - val_acc: 0.9617\n",
      "Epoch 50/50\n",
      "50/50 [==============================] - 70s 1s/step - loss: 0.1033 - acc: 0.9690 - val_loss: 0.3242 - val_acc: 0.9388\n"
     ]
    }
   ],
   "source": [
    "\n",
    "\n",
    "model1.compile(loss='categorical_crossentropy',\n",
    "              optimizer=optimizers.RMSprop(2e-5),\n",
    "              metrics=['acc'])\n",
    "\n",
    "# conv_base.trainable = False\n",
    "\n",
    "'''\n",
    "history = model.fit_generator(\n",
    "        train_generator,\n",
    "        steps_per_epoch=100,\n",
    "        epochs=30,\n",
    "        validation_data=validation_generator,\n",
    "        validation_steps=50,\n",
    "        verbose=2)\n",
    "'''\n",
    "\n",
    "history = model1.fit_generator(\n",
    "      train_generator,\n",
    "      steps_per_epoch=50,\n",
    "      epochs=50,\n",
    "      validation_data=validation_generator,\n",
    "      validation_steps=25,\n",
    "      verbose=1)\n"
   ]
  },
  {
   "cell_type": "code",
   "execution_count": 21,
   "metadata": {
    "collapsed": true
   },
   "outputs": [],
   "source": [
    "model.save('4-9-VGG16-N45PLUSs.h5')"
   ]
  },
  {
   "cell_type": "code",
   "execution_count": 22,
   "metadata": {},
   "outputs": [
    {
     "name": "stdout",
     "output_type": "stream",
     "text": [
      "<built-in method keys of dict object at 0x000001CE94CAEA68>\n"
     ]
    },
    {
     "data": {
      "image/png": "[encoded data removed]",
      "text/plain": [
       "<Figure size 432x288 with 1 Axes>"
      ]
     },
     "metadata": {},
     "output_type": "display_data"
    },
    {
     "data": {
      "image/png": "[encoded data removed]",
      "text/plain": [
       "<Figure size 432x288 with 1 Axes>"
      ]
     },
     "metadata": {},
     "output_type": "display_data"
    }
   ],
   "source": [
    "# 绘制训练过程中的损失曲线和精度曲线\n",
    "import matplotlib.pyplot as plt\n",
    "\n",
    "print(history.history.keys)\n",
    "acc = history.history['acc']\n",
    "val_acc = history.history['val_acc']\n",
    "loss = history.history['loss']\n",
    "val_loss = history.history['val_loss']\n",
    "\n",
    "epochs = range(1, len(acc) + 1)\n",
    "\n",
    "plt.plot(epochs, acc, 'bo', label='Training acc')\n",
    "plt.plot(epochs, val_acc, 'b', label='Validation acc')\n",
    "plt.title('Training and validation accuracy')\n",
    "plt.legend()\n",
    "\n",
    "plt.figure()\n",
    "\n",
    "plt.plot(epochs, loss, 'bo', label='Training loss')\n",
    "plt.plot(epochs, val_loss, 'b', label='Validation loss')\n",
    "plt.title('Training and validation loss')\n",
    "plt.legend()\n",
    "\n",
    "plt.show()"
   ]
  },
  {
   "cell_type": "code",
   "execution_count": null,
   "metadata": {
    "collapsed": true
   },
   "outputs": [],
   "source": []
  },
  {
   "cell_type": "markdown",
   "metadata": {
    "collapsed": true
   },
   "source": [
    "# 模型微调"
   ]
  },
  {
   "cell_type": "code",
   "execution_count": 16,
   "metadata": {
    "scrolled": true
   },
   "outputs": [
    {
     "name": "stdout",
     "output_type": "stream",
     "text": [
      "Model: \"vgg16\"\n",
      "_________________________________________________________________\n",
      "Layer (type)                 Output Shape              Param #   \n",
      "=================================================================\n",
      "input_1 (InputLayer)         (None, 240, 240, 3)       0         \n",
      "_________________________________________________________________\n",
      "block1_conv1 (Conv2D)        (None, 240, 240, 64)      1792      \n",
      "_________________________________________________________________\n",
      "block1_conv2 (Conv2D)        (None, 240, 240, 64)      36928     \n",
      "_________________________________________________________________\n",
      "block1_pool (MaxPooling2D)   (None, 120, 120, 64)      0         \n",
      "_________________________________________________________________\n",
      "block2_conv1 (Conv2D)        (None, 120, 120, 128)     73856     \n",
      "_________________________________________________________________\n",
      "block2_conv2 (Conv2D)        (None, 120, 120, 128)     147584    \n",
      "_________________________________________________________________\n",
      "block2_pool (MaxPooling2D)   (None, 60, 60, 128)       0         \n",
      "_________________________________________________________________\n",
      "block3_conv1 (Conv2D)        (None, 60, 60, 256)       295168    \n",
      "_________________________________________________________________\n",
      "block3_conv2 (Conv2D)        (None, 60, 60, 256)       590080    \n",
      "_________________________________________________________________\n",
      "block3_conv3 (Conv2D)        (None, 60, 60, 256)       590080    \n",
      "_________________________________________________________________\n",
      "block3_pool (MaxPooling2D)   (None, 30, 30, 256)       0         \n",
      "_________________________________________________________________\n",
      "block4_conv1 (Conv2D)        (None, 30, 30, 512)       1180160   \n",
      "_________________________________________________________________\n",
      "block4_conv2 (Conv2D)        (None, 30, 30, 512)       2359808   \n",
      "_________________________________________________________________\n",
      "block4_conv3 (Conv2D)        (None, 30, 30, 512)       2359808   \n",
      "_________________________________________________________________\n",
      "block4_pool (MaxPooling2D)   (None, 15, 15, 512)       0         \n",
      "_________________________________________________________________\n",
      "block5_conv1 (Conv2D)        (None, 15, 15, 512)       2359808   \n",
      "_________________________________________________________________\n",
      "block5_conv2 (Conv2D)        (None, 15, 15, 512)       2359808   \n",
      "_________________________________________________________________\n",
      "block5_conv3 (Conv2D)        (None, 15, 15, 512)       2359808   \n",
      "_________________________________________________________________\n",
      "block5_pool (MaxPooling2D)   (None, 7, 7, 512)         0         \n",
      "=================================================================\n",
      "Total params: 14,714,688\n",
      "Trainable params: 0\n",
      "Non-trainable params: 14,714,688\n",
      "_________________________________________________________________\n"
     ]
    }
   ],
   "source": [
    "# 步骤\n",
    "# 1.在已经训练好的基网络上添加自定义网络\n",
    "# 2.冻结基网络\n",
    "# 3.训练所添加的部分\n",
    "# 4.解冻及网络的一些层\n",
    "# 5.联合训练解冻的这些层和添加的部分\n",
    "conv_base.summary()"
   ]
  },
  {
   "cell_type": "code",
   "execution_count": 17,
   "metadata": {
    "collapsed": true,
    "scrolled": true
   },
   "outputs": [],
   "source": [
    "# model.summary()"
   ]
  },
  {
   "cell_type": "code",
   "execution_count": 18,
   "metadata": {
    "collapsed": true
   },
   "outputs": [],
   "source": [
    "# model.trainable= False"
   ]
  },
  {
   "cell_type": "code",
   "execution_count": 19,
   "metadata": {},
   "outputs": [
    {
     "name": "stdout",
     "output_type": "stream",
     "text": [
      "This is the number of trainable weights before freezing the conv base: 6\n",
      "This is the number of trainable weights after freezing the conv base: 12\n"
     ]
    }
   ],
   "source": [
    "print('This is the number of trainable weights '\n",
    "      'before freezing the conv base:', len(model.trainable_weights))\n",
    "\n",
    "# 冻结直到某一层的所有层\n",
    "conv_base.trainable = True\n",
    "\n",
    "\n",
    "set_trainable = False\n",
    "for layer in conv_base.layers:\n",
    "# for layer in model.layers:    \n",
    "    if layer.name == 'block5_conv1':\n",
    "        set_trainable = True\n",
    "    if set_trainable:\n",
    "        layer.trainable = True\n",
    "    else:\n",
    "        layer.trainable = False\n",
    "print('This is the number of trainable weights '\n",
    "      'after freezing the conv base:', len(model.trainable_weights))"
   ]
  },
  {
   "cell_type": "markdown",
   "metadata": {},
   "source": [
    "# 不运行"
   ]
  },
  {
   "cell_type": "code",
   "execution_count": 20,
   "metadata": {
    "collapsed": true,
    "scrolled": false
   },
   "outputs": [],
   "source": [
    "# from keras import models,layers\n",
    "# model = models.Sequential()\n",
    "# model.add(conv_base)\n",
    "\n",
    "# model.add(layers.Flatten())\n",
    "# model.add(layers.Dropout(0.5))\n",
    "# model.add(layers.Dense(64, activation='relu'))\n",
    "# model.add(layers.Dropout(0.5))\n",
    "# model.add(layers.Dense(32, activation='relu'))\n",
    "\n",
    "\n",
    "# model.add(layers.Dense(22, activation='softmax'))"
   ]
  },
  {
   "cell_type": "code",
   "execution_count": null,
   "metadata": {
    "collapsed": true
   },
   "outputs": [],
   "source": []
  },
  {
   "cell_type": "code",
   "execution_count": null,
   "metadata": {},
   "outputs": [
    {
     "name": "stdout",
     "output_type": "stream",
     "text": [
      "Model: \"sequential_2\"\n",
      "_________________________________________________________________\n",
      "Layer (type)                 Output Shape              Param #   \n",
      "=================================================================\n",
      "vgg16 (Model)                (None, 7, 7, 512)         14714688  \n",
      "_________________________________________________________________\n",
      "flatten_1 (Flatten)          (None, 25088)             0         \n",
      "_________________________________________________________________\n",
      "dropout_2 (Dropout)          (None, 25088)             0         \n",
      "_________________________________________________________________\n",
      "dense_3 (Dense)              (None, 64)                1605696   \n",
      "_________________________________________________________________\n",
      "dropout_3 (Dropout)          (None, 64)                0         \n",
      "_________________________________________________________________\n",
      "dense_4 (Dense)              (None, 128)               8320      \n",
      "_________________________________________________________________\n",
      "dense_5 (Dense)              (None, 22)                2838      \n",
      "=================================================================\n",
      "Total params: 9,252,118\n",
      "Trainable params: 1,616,854\n",
      "Non-trainable params: 7,635,264\n",
      "_________________________________________________________________\n"
     ]
    },
    {
     "name": "stderr",
     "output_type": "stream",
     "text": [
      "E:\\Anaconda\\envs\\keras-g\\lib\\site-packages\\keras\\engine\\training.py:493: UserWarning: Discrepancy between trainable weights and collected trainable weights, did you set `model.trainable` without calling `model.compile` after ?\n",
      "  'Discrepancy between trainable weights and collected trainable'\n"
     ]
    }
   ],
   "source": [
    "model.summary()"
   ]
  },
  {
   "cell_type": "code",
   "execution_count": null,
   "metadata": {
    "scrolled": true
   },
   "outputs": [
    {
     "name": "stdout",
     "output_type": "stream",
     "text": [
      "Epoch 1/50\n",
      " 5/60 [=>............................] - ETA: 1:32 - loss: 1.7884 - acc: 0.4533"
     ]
    },
    {
     "name": "stderr",
     "output_type": "stream",
     "text": [
      "E:\\Anaconda\\envs\\keras-g\\lib\\site-packages\\PIL\\Image.py:963: UserWarning: Palette images with Transparency expressed in bytes should be converted to RGBA images\n",
      "  \"Palette images with Transparency expressed in bytes should be \"\n"
     ]
    },
    {
     "name": "stdout",
     "output_type": "stream",
     "text": [
      "\b\b\b\b\b\b\b\b\b\b\b\b\b\b\b\b\b\b\b\b\b\b\b\b\b\b\b\b\b\b\b\b\b\b\b\b\b\b\b\b\b\b\b\b\b\b\b\b\b\b\b\b\b\b\b\b\b\b\b\b\b\b\b\b\b\b\b\b\b\b\b\b\b\b\b\b\b\b\b\r",
      " 6/60 [==>...........................] - ETA: 1:26 - loss: 1.8154 - acc: 0.4528"
     ]
    },
    {
     "name": "stderr",
     "output_type": "stream",
     "text": [
      "E:\\Anaconda\\envs\\keras-g\\lib\\site-packages\\PIL\\TiffImagePlugin.py:793: UserWarning: Corrupt EXIF data.  Expecting to read 4 bytes but only got 0. \n",
      "  warnings.warn(str(msg))\n"
     ]
    },
    {
     "name": "stdout",
     "output_type": "stream",
     "text": [
      "60/60 [==============================] - 106s 2s/step - loss: 1.7148 - acc: 0.4774 - val_loss: 1.2546 - val_acc: 0.6611\n",
      "Epoch 2/50\n",
      "60/60 [==============================] - 93s 2s/step - loss: 1.5994 - acc: 0.5126 - val_loss: 1.0818 - val_acc: 0.7199\n",
      "Epoch 3/50\n",
      "60/60 [==============================] - 94s 2s/step - loss: 1.4555 - acc: 0.5447 - val_loss: 0.9833 - val_acc: 0.7395\n",
      "Epoch 4/50\n",
      "60/60 [==============================] - 92s 2s/step - loss: 1.3826 - acc: 0.5750 - val_loss: 0.9072 - val_acc: 0.7591\n",
      "Epoch 5/50\n",
      "60/60 [==============================] - 99s 2s/step - loss: 1.2865 - acc: 0.5996 - val_loss: 0.8090 - val_acc: 0.7619\n",
      "Epoch 6/50\n",
      "60/60 [==============================] - 93s 2s/step - loss: 1.2331 - acc: 0.6161 - val_loss: 0.7834 - val_acc: 0.7787\n",
      "Epoch 7/50\n",
      "60/60 [==============================] - 93s 2s/step - loss: 1.1821 - acc: 0.6306 - val_loss: 0.7305 - val_acc: 0.7927\n",
      "Epoch 8/50\n",
      "60/60 [==============================] - 94s 2s/step - loss: 1.0839 - acc: 0.6515 - val_loss: 0.7204 - val_acc: 0.7843\n",
      "Epoch 9/50\n",
      "60/60 [==============================] - 92s 2s/step - loss: 1.0587 - acc: 0.6667 - val_loss: 0.6070 - val_acc: 0.8263\n",
      "Epoch 10/50\n",
      "60/60 [==============================] - 99s 2s/step - loss: 1.0020 - acc: 0.6864 - val_loss: 0.5642 - val_acc: 0.8487\n",
      "Epoch 11/50\n",
      "60/60 [==============================] - 93s 2s/step - loss: 0.9810 - acc: 0.6901 - val_loss: 0.5677 - val_acc: 0.8431\n",
      "Epoch 12/50\n",
      "60/60 [==============================] - 95s 2s/step - loss: 0.9175 - acc: 0.7101 - val_loss: 0.4924 - val_acc: 0.8852\n",
      "Epoch 13/50\n",
      "60/60 [==============================] - 94s 2s/step - loss: 0.8924 - acc: 0.7290 - val_loss: 0.5591 - val_acc: 0.8459\n",
      "Epoch 14/50\n",
      "60/60 [==============================] - 93s 2s/step - loss: 0.8585 - acc: 0.7246 - val_loss: 0.4752 - val_acc: 0.8627\n",
      "Epoch 15/50\n",
      "60/60 [==============================] - 100s 2s/step - loss: 0.8290 - acc: 0.7362 - val_loss: 0.4334 - val_acc: 0.8824\n",
      "Epoch 16/50\n",
      "60/60 [==============================] - 94s 2s/step - loss: 0.8015 - acc: 0.7468 - val_loss: 0.4033 - val_acc: 0.9160\n",
      "Epoch 17/50\n",
      "60/60 [==============================] - 95s 2s/step - loss: 0.7801 - acc: 0.7596 - val_loss: 0.3843 - val_acc: 0.9188\n",
      "Epoch 18/50\n",
      "60/60 [==============================] - 93s 2s/step - loss: 0.7293 - acc: 0.7682 - val_loss: 0.4172 - val_acc: 0.8824\n",
      "Epoch 19/50\n",
      "60/60 [==============================] - 94s 2s/step - loss: 0.7176 - acc: 0.7721 - val_loss: 0.3880 - val_acc: 0.9020\n",
      "Epoch 20/50\n",
      "60/60 [==============================] - 100s 2s/step - loss: 0.6675 - acc: 0.7966 - val_loss: 0.4322 - val_acc: 0.8880\n",
      "Epoch 21/50\n",
      "60/60 [==============================] - 93s 2s/step - loss: 0.6528 - acc: 0.7957 - val_loss: 0.4465 - val_acc: 0.8711\n",
      "Epoch 22/50\n",
      "60/60 [==============================] - 94s 2s/step - loss: 0.6360 - acc: 0.7928 - val_loss: 0.3582 - val_acc: 0.9188\n",
      "Epoch 23/50\n",
      "60/60 [==============================] - 94s 2s/step - loss: 0.6276 - acc: 0.7992 - val_loss: 0.3219 - val_acc: 0.9244\n",
      "Epoch 24/50\n",
      "60/60 [==============================] - 95s 2s/step - loss: 0.6089 - acc: 0.8119 - val_loss: 0.4021 - val_acc: 0.8992\n",
      "Epoch 25/50\n",
      "60/60 [==============================] - 100s 2s/step - loss: 0.5693 - acc: 0.8187 - val_loss: 0.2968 - val_acc: 0.9272\n",
      "Epoch 26/50\n",
      "60/60 [==============================] - 94s 2s/step - loss: 0.5660 - acc: 0.8234 - val_loss: 0.3010 - val_acc: 0.9244\n",
      "Epoch 27/50\n",
      "60/60 [==============================] - 95s 2s/step - loss: 0.5236 - acc: 0.8304 - val_loss: 0.2840 - val_acc: 0.9384\n",
      "Epoch 28/50\n",
      "60/60 [==============================] - 95s 2s/step - loss: 0.5439 - acc: 0.8273 - val_loss: 0.2770 - val_acc: 0.9496\n",
      "Epoch 29/50\n",
      "60/60 [==============================] - 95s 2s/step - loss: 0.5081 - acc: 0.8408 - val_loss: 0.3437 - val_acc: 0.9104\n",
      "Epoch 30/50\n",
      "60/60 [==============================] - 100s 2s/step - loss: 0.4821 - acc: 0.8400 - val_loss: 0.3096 - val_acc: 0.9300\n",
      "Epoch 31/50\n",
      "60/60 [==============================] - 94s 2s/step - loss: 0.4852 - acc: 0.8530 - val_loss: 0.3051 - val_acc: 0.9104\n",
      "Epoch 32/50\n",
      "60/60 [==============================] - 95s 2s/step - loss: 0.4728 - acc: 0.8536 - val_loss: 0.2469 - val_acc: 0.9496\n",
      "Epoch 33/50\n",
      "60/60 [==============================] - 95s 2s/step - loss: 0.4283 - acc: 0.8604 - val_loss: 0.2573 - val_acc: 0.9440\n",
      "Epoch 34/50\n",
      "60/60 [==============================] - 93s 2s/step - loss: 0.4415 - acc: 0.8659 - val_loss: 0.2848 - val_acc: 0.9188\n",
      "Epoch 35/50\n",
      "60/60 [==============================] - 100s 2s/step - loss: 0.4170 - acc: 0.8690 - val_loss: 0.2600 - val_acc: 0.9356\n",
      "Epoch 36/50\n",
      "60/60 [==============================] - 94s 2s/step - loss: 0.4082 - acc: 0.8688 - val_loss: 0.2941 - val_acc: 0.9300\n",
      "Epoch 37/50\n",
      "60/60 [==============================] - 95s 2s/step - loss: 0.3946 - acc: 0.8804 - val_loss: 0.2519 - val_acc: 0.9300\n",
      "Epoch 38/50\n",
      "60/60 [==============================] - 94s 2s/step - loss: 0.3772 - acc: 0.8779 - val_loss: 0.3216 - val_acc: 0.9216\n",
      "Epoch 39/50\n",
      "60/60 [==============================] - 94s 2s/step - loss: 0.4044 - acc: 0.8738 - val_loss: 0.1976 - val_acc: 0.9580\n",
      "Epoch 40/50\n",
      "60/60 [==============================] - 100s 2s/step - loss: 0.3797 - acc: 0.8817 - val_loss: 0.2924 - val_acc: 0.9272\n",
      "Epoch 41/50\n",
      "60/60 [==============================] - 94s 2s/step - loss: 0.3541 - acc: 0.8924 - val_loss: 0.2094 - val_acc: 0.9636\n",
      "Epoch 42/50\n",
      "60/60 [==============================] - 96s 2s/step - loss: 0.3474 - acc: 0.8953 - val_loss: 0.2358 - val_acc: 0.9468\n",
      "Epoch 43/50\n",
      "60/60 [==============================] - 95s 2s/step - loss: 0.3402 - acc: 0.8911 - val_loss: 0.2234 - val_acc: 0.9524\n",
      "Epoch 44/50\n",
      "60/60 [==============================] - 96s 2s/step - loss: 0.3241 - acc: 0.8989 - val_loss: 0.2727 - val_acc: 0.9440\n",
      "Epoch 45/50\n",
      "60/60 [==============================] - 101s 2s/step - loss: 0.3149 - acc: 0.9063 - val_loss: 0.2559 - val_acc: 0.9272\n",
      "Epoch 46/50\n",
      "60/60 [==============================] - 94s 2s/step - loss: 0.2934 - acc: 0.9064 - val_loss: 0.2398 - val_acc: 0.9384\n",
      "Epoch 47/50\n",
      "60/60 [==============================] - 94s 2s/step - loss: 0.3097 - acc: 0.9006 - val_loss: 0.3004 - val_acc: 0.9188\n",
      "Epoch 48/50\n",
      "60/60 [==============================] - 95s 2s/step - loss: 0.3005 - acc: 0.9020 - val_loss: 0.2104 - val_acc: 0.9496\n",
      "Epoch 49/50\n",
      "60/60 [==============================] - 94s 2s/step - loss: 0.2909 - acc: 0.9113 - val_loss: 0.2111 - val_acc: 0.9468\n",
      "Epoch 50/50\n",
      "59/60 [============================>.] - ETA: 1s - loss: 0.2938 - acc: 0.9068"
     ]
    }
   ],
   "source": [
    "# 微调模型\n",
    "\n",
    "from keras.preprocessing.image import ImageDataGenerator\n",
    "from keras import optimizers\n",
    "model.compile(loss='categorical_crossentropy',\n",
    "              optimizer=optimizers.RMSprop(2e-5),\n",
    "              metrics=['acc'])\n",
    "\n",
    "history = model.fit_generator(\n",
    "        train_generator,\n",
    "        steps_per_epoch=60,\n",
    "        epochs=50,\n",
    "        validation_data=validation_generator,\n",
    "        validation_steps=30)"
   ]
  },
  {
   "cell_type": "code",
   "execution_count": null,
   "metadata": {
    "collapsed": true
   },
   "outputs": [],
   "source": [
    "# 绘制训练过程中的损失曲线和精度曲线\n",
    "import matplotlib.pyplot as plt\n",
    "\n",
    "print(history.history.keys)\n",
    "acc = history.history['acc']\n",
    "val_acc = history.history['val_acc']\n",
    "loss = history.history['loss']\n",
    "val_loss = history.history['val_loss']\n",
    "\n",
    "epochs = range(1, len(acc) + 1)\n",
    "\n",
    "plt.plot(epochs, acc, 'bo', label='Training acc')\n",
    "plt.plot(epochs, val_acc, 'b', label='Validation acc')\n",
    "plt.title('Training and validation accuracy')\n",
    "plt.legend()\n",
    "\n",
    "plt.figure()\n",
    "\n",
    "plt.plot(epochs, loss, 'bo', label='Training loss')\n",
    "plt.plot(epochs, val_loss, 'b', label='Validation loss')\n",
    "plt.title('Training and validation loss')\n",
    "plt.legend()\n",
    "\n",
    "plt.show()"
   ]
  },
  {
   "cell_type": "code",
   "execution_count": null,
   "metadata": {
    "collapsed": true
   },
   "outputs": [],
   "source": [
    "model.save('4-8-VGG16-200-3.h5')"
   ]
  },
  {
   "cell_type": "code",
   "execution_count": 38,
   "metadata": {},
   "outputs": [
    {
     "name": "stdout",
     "output_type": "stream",
     "text": [
      "Epoch 1/50\n",
      " 1/60 [..............................] - ETA: 1:19 - loss: 0.4084 - acc: 0.8833"
     ]
    },
    {
     "name": "stderr",
     "output_type": "stream",
     "text": [
      "E:\\Anaconda\\envs\\keras-g\\lib\\site-packages\\PIL\\TiffImagePlugin.py:793: UserWarning: Corrupt EXIF data.  Expecting to read 4 bytes but only got 0. \n",
      "  warnings.warn(str(msg))\n"
     ]
    },
    {
     "name": "stdout",
     "output_type": "stream",
     "text": [
      "11/60 [====>.........................] - ETA: 49s - loss: 0.3010 - acc: 0.9182"
     ]
    },
    {
     "name": "stderr",
     "output_type": "stream",
     "text": [
      "E:\\Anaconda\\envs\\keras-g\\lib\\site-packages\\PIL\\Image.py:963: UserWarning: Palette images with Transparency expressed in bytes should be converted to RGBA images\n",
      "  \"Palette images with Transparency expressed in bytes should be \"\n"
     ]
    },
    {
     "name": "stdout",
     "output_type": "stream",
     "text": [
      "60/60 [==============================] - 75s 1s/step - loss: 0.2805 - acc: 0.9207 - val_loss: 0.3222 - val_acc: 0.9361\n",
      "Epoch 2/50\n",
      "60/60 [==============================] - 65s 1s/step - loss: 0.2933 - acc: 0.9192 - val_loss: 0.3193 - val_acc: 0.9361\n",
      "Epoch 3/50\n",
      "60/60 [==============================] - 66s 1s/step - loss: 0.2717 - acc: 0.9139 - val_loss: 0.2932 - val_acc: 0.9556\n",
      "Epoch 4/50\n",
      "60/60 [==============================] - 65s 1s/step - loss: 0.2688 - acc: 0.9183 - val_loss: 0.3154 - val_acc: 0.9361\n",
      "Epoch 5/50\n",
      "60/60 [==============================] - 65s 1s/step - loss: 0.2607 - acc: 0.9249 - val_loss: 0.3644 - val_acc: 0.9472\n",
      "Epoch 6/50\n",
      "60/60 [==============================] - 66s 1s/step - loss: 0.2792 - acc: 0.9174 - val_loss: 0.3404 - val_acc: 0.9444\n",
      "Epoch 7/50\n",
      "60/60 [==============================] - 65s 1s/step - loss: 0.2708 - acc: 0.9238 - val_loss: 0.3026 - val_acc: 0.9472\n",
      "Epoch 8/50\n",
      "60/60 [==============================] - 66s 1s/step - loss: 0.2502 - acc: 0.9260 - val_loss: 0.3502 - val_acc: 0.9333\n",
      "Epoch 9/50\n",
      "60/60 [==============================] - 66s 1s/step - loss: 0.2532 - acc: 0.9283 - val_loss: 0.4208 - val_acc: 0.9250\n",
      "Epoch 10/50\n",
      "60/60 [==============================] - 66s 1s/step - loss: 0.2433 - acc: 0.9286 - val_loss: 0.4013 - val_acc: 0.9361\n",
      "Epoch 11/50\n",
      "60/60 [==============================] - 65s 1s/step - loss: 0.2501 - acc: 0.9308 - val_loss: 0.3596 - val_acc: 0.9361\n",
      "Epoch 12/50\n",
      "60/60 [==============================] - 65s 1s/step - loss: 0.2304 - acc: 0.9328 - val_loss: 0.3479 - val_acc: 0.9417\n",
      "Epoch 13/50\n",
      "60/60 [==============================] - 65s 1s/step - loss: 0.2487 - acc: 0.9268 - val_loss: 0.2936 - val_acc: 0.9444\n",
      "Epoch 14/50\n",
      "60/60 [==============================] - 65s 1s/step - loss: 0.2270 - acc: 0.9336 - val_loss: 0.3051 - val_acc: 0.9583\n",
      "Epoch 15/50\n",
      "60/60 [==============================] - 67s 1s/step - loss: 0.2181 - acc: 0.9358 - val_loss: 0.3228 - val_acc: 0.9500\n",
      "Epoch 16/50\n",
      "60/60 [==============================] - 68s 1s/step - loss: 0.2208 - acc: 0.9356 - val_loss: 0.3742 - val_acc: 0.9361\n",
      "Epoch 17/50\n",
      "60/60 [==============================] - 68s 1s/step - loss: 0.2189 - acc: 0.9372 - val_loss: 0.3656 - val_acc: 0.9306\n",
      "Epoch 18/50\n",
      "60/60 [==============================] - 70s 1s/step - loss: 0.2293 - acc: 0.9347 - val_loss: 0.3552 - val_acc: 0.9250\n",
      "Epoch 19/50\n",
      "60/60 [==============================] - 72s 1s/step - loss: 0.2274 - acc: 0.9377 - val_loss: 0.4411 - val_acc: 0.9222\n",
      "Epoch 20/50\n",
      "60/60 [==============================] - 66s 1s/step - loss: 0.2112 - acc: 0.9372 - val_loss: 0.3971 - val_acc: 0.9278\n",
      "Epoch 21/50\n",
      "60/60 [==============================] - 65s 1s/step - loss: 0.2112 - acc: 0.9374 - val_loss: 0.3946 - val_acc: 0.9306\n",
      "Epoch 22/50\n",
      "60/60 [==============================] - 65s 1s/step - loss: 0.2060 - acc: 0.9386 - val_loss: 0.3633 - val_acc: 0.9556\n",
      "Epoch 23/50\n",
      "60/60 [==============================] - 65s 1s/step - loss: 0.2109 - acc: 0.9411 - val_loss: 0.4266 - val_acc: 0.9333\n",
      "Epoch 24/50\n",
      "60/60 [==============================] - 65s 1s/step - loss: 0.2210 - acc: 0.9375 - val_loss: 0.4013 - val_acc: 0.9444\n",
      "Epoch 25/50\n",
      "60/60 [==============================] - 64s 1s/step - loss: 0.2042 - acc: 0.9400 - val_loss: 0.3659 - val_acc: 0.9417\n",
      "Epoch 26/50\n",
      "60/60 [==============================] - 63s 1s/step - loss: 0.1946 - acc: 0.9439 - val_loss: 0.3933 - val_acc: 0.9389\n",
      "Epoch 27/50\n",
      "60/60 [==============================] - 64s 1s/step - loss: 0.1906 - acc: 0.9419 - val_loss: 0.4004 - val_acc: 0.9417\n",
      "Epoch 28/50\n",
      "60/60 [==============================] - 65s 1s/step - loss: 0.2004 - acc: 0.9405 - val_loss: 0.4102 - val_acc: 0.9389\n",
      "Epoch 29/50\n",
      "60/60 [==============================] - 64s 1s/step - loss: 0.1742 - acc: 0.9453 - val_loss: 0.4488 - val_acc: 0.9306\n",
      "Epoch 30/50\n",
      "60/60 [==============================] - 65s 1s/step - loss: 0.1704 - acc: 0.9463 - val_loss: 0.3477 - val_acc: 0.9417\n",
      "Epoch 31/50\n",
      "60/60 [==============================] - 64s 1s/step - loss: 0.1771 - acc: 0.9480 - val_loss: 0.3535 - val_acc: 0.9500\n",
      "Epoch 32/50\n",
      "60/60 [==============================] - 66s 1s/step - loss: 0.1695 - acc: 0.9489 - val_loss: 0.3547 - val_acc: 0.9389\n",
      "Epoch 33/50\n",
      "60/60 [==============================] - 64s 1s/step - loss: 0.1845 - acc: 0.9466 - val_loss: 0.4127 - val_acc: 0.9472\n",
      "Epoch 34/50\n",
      "60/60 [==============================] - 66s 1s/step - loss: 0.1846 - acc: 0.9502 - val_loss: 0.3672 - val_acc: 0.9333\n",
      "Epoch 35/50\n",
      "60/60 [==============================] - 67s 1s/step - loss: 0.1622 - acc: 0.9533 - val_loss: 0.3567 - val_acc: 0.9417\n",
      "Epoch 36/50\n",
      "60/60 [==============================] - 68s 1s/step - loss: 0.1908 - acc: 0.9436 - val_loss: 0.3743 - val_acc: 0.9417\n",
      "Epoch 37/50\n",
      "60/60 [==============================] - 69s 1s/step - loss: 0.1793 - acc: 0.9486 - val_loss: 0.4733 - val_acc: 0.9278\n",
      "Epoch 38/50\n",
      "60/60 [==============================] - 71s 1s/step - loss: 0.1558 - acc: 0.9508 - val_loss: 0.4353 - val_acc: 0.9306\n",
      "Epoch 39/50\n",
      "60/60 [==============================] - 65s 1s/step - loss: 0.1776 - acc: 0.9458 - val_loss: 0.3985 - val_acc: 0.9389\n",
      "Epoch 40/50\n",
      "60/60 [==============================] - 64s 1s/step - loss: 0.1590 - acc: 0.9517 - val_loss: 0.4222 - val_acc: 0.9250\n",
      "Epoch 41/50\n",
      "60/60 [==============================] - 65s 1s/step - loss: 0.1508 - acc: 0.9580 - val_loss: 0.4707 - val_acc: 0.9361\n",
      "Epoch 42/50\n",
      "60/60 [==============================] - 64s 1s/step - loss: 0.1524 - acc: 0.9530 - val_loss: 0.3693 - val_acc: 0.9500\n",
      "Epoch 43/50\n",
      "60/60 [==============================] - 64s 1s/step - loss: 0.1409 - acc: 0.9522 - val_loss: 0.4390 - val_acc: 0.9361\n",
      "Epoch 44/50\n",
      "60/60 [==============================] - 66s 1s/step - loss: 0.1403 - acc: 0.9572 - val_loss: 0.3775 - val_acc: 0.9528\n",
      "Epoch 45/50\n",
      "60/60 [==============================] - 64s 1s/step - loss: 0.1512 - acc: 0.9555 - val_loss: 0.3920 - val_acc: 0.9444\n",
      "Epoch 46/50\n",
      "60/60 [==============================] - 64s 1s/step - loss: 0.1478 - acc: 0.9552 - val_loss: 0.3689 - val_acc: 0.9556\n",
      "Epoch 47/50\n",
      "60/60 [==============================] - 65s 1s/step - loss: 0.1540 - acc: 0.9528 - val_loss: 0.3579 - val_acc: 0.9583\n",
      "Epoch 48/50\n",
      "60/60 [==============================] - 62s 1s/step - loss: 0.1496 - acc: 0.9572 - val_loss: 0.3472 - val_acc: 0.9639\n",
      "Epoch 49/50\n",
      "60/60 [==============================] - 65s 1s/step - loss: 0.1318 - acc: 0.9610 - val_loss: 0.4246 - val_acc: 0.9444\n",
      "Epoch 50/50\n",
      "60/60 [==============================] - 65s 1s/step - loss: 0.1451 - acc: 0.9589 - val_loss: 0.4052 - val_acc: 0.9444\n"
     ]
    }
   ],
   "source": [
    "history = model.fit_generator(\n",
    "        train_generator,\n",
    "        steps_per_epoch=60,\n",
    "        epochs=50,\n",
    "        validation_data=validation_generator,\n",
    "        validation_steps=30)\n"
   ]
  },
  {
   "cell_type": "code",
   "execution_count": 39,
   "metadata": {
    "collapsed": true
   },
   "outputs": [],
   "source": [
    "model.save('4-7-VGG19-6.h5')"
   ]
  },
  {
   "cell_type": "code",
   "execution_count": 40,
   "metadata": {},
   "outputs": [
    {
     "name": "stdout",
     "output_type": "stream",
     "text": [
      "<built-in method keys of dict object at 0x000002211A895048>\n"
     ]
    },
    {
     "data": {
      "image/png": "[encoded data removed]",
      "text/plain": [
       "<Figure size 432x288 with 1 Axes>"
      ]
     },
     "metadata": {},
     "output_type": "display_data"
    },
    {
     "data": {
      "image/png": "[encoded data removed]",
      "text/plain": [
       "<Figure size 432x288 with 1 Axes>"
      ]
     },
     "metadata": {},
     "output_type": "display_data"
    }
   ],
   "source": [
    "# 绘制训练过程中的损失曲线和精度曲线\n",
    "import matplotlib.pyplot as plt\n",
    "\n",
    "print(history.history.keys)\n",
    "acc = history.history['acc']\n",
    "val_acc = history.history['val_acc']\n",
    "loss = history.history['loss']\n",
    "val_loss = history.history['val_loss']\n",
    "\n",
    "epochs = range(1, len(acc) + 1)\n",
    "\n",
    "plt.plot(epochs, acc, 'bo', label='Training acc')\n",
    "plt.plot(epochs, val_acc, 'b', label='Validation acc')\n",
    "plt.title('Training and validation accuracy')\n",
    "plt.legend()\n",
    "\n",
    "plt.figure()\n",
    "\n",
    "plt.plot(epochs, loss, 'bo', label='Training loss')\n",
    "plt.plot(epochs, val_loss, 'b', label='Validation loss')\n",
    "plt.title('Training and validation loss')\n",
    "plt.legend()\n",
    "\n",
    "plt.show()"
   ]
  },
  {
   "cell_type": "code",
   "execution_count": 45,
   "metadata": {
    "collapsed": true
   },
   "outputs": [],
   "source": [
    "model1.save('practice4-6-6.h5')"
   ]
  },
  {
   "cell_type": "code",
   "execution_count": null,
   "metadata": {
    "collapsed": true
   },
   "outputs": [],
   "source": []
  }
 ],
 "metadata": {
  "kernelspec": {
   "display_name": "Python [conda env:keras-g]",
   "language": "python",
   "name": "conda-env-keras-g-py"
  },
  "language_info": {
   "codemirror_mode": {
    "name": "ipython",
    "version": 3
   },
   "file_extension": ".py",
   "mimetype": "text/x-python",
   "name": "python",
   "nbconvert_exporter": "python",
   "pygments_lexer": "ipython3",
   "version": "3.6.5"
  }
 },
 "nbformat": 4,
 "nbformat_minor": 2
}
